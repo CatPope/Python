{
  "nbformat": 4,
  "nbformat_minor": 0,
  "metadata": {
    "colab": {
      "provenance": []
    },
    "kernelspec": {
      "name": "python3",
      "display_name": "Python 3"
    },
    "language_info": {
      "name": "python"
    }
  },
  "cells": [
    {
      "cell_type": "markdown",
      "source": [
        "#함수"
      ],
      "metadata": {
        "id": "0mfeouCcRpdP"
      }
    },
    {
      "cell_type": "code",
      "source": [
        "def Hi():\n",
        "  print(\"Hello World!\")\n",
        "\n",
        "Hi()"
      ],
      "metadata": {
        "colab": {
          "base_uri": "https://localhost:8080/"
        },
        "id": "ddo7-fjOyJtI",
        "outputId": "3cf48143-23e4-43df-f66f-f053747d3b35"
      },
      "execution_count": null,
      "outputs": [
        {
          "output_type": "stream",
          "name": "stdout",
          "text": [
            "Hello World!\n"
          ]
        }
      ]
    },
    {
      "cell_type": "code",
      "source": [
        "def triangle():\n",
        "  for i in range(5):\n",
        "    for j in range(i+1):\n",
        "      print('*', end='')\n",
        "    print()\n",
        "triangle()"
      ],
      "metadata": {
        "colab": {
          "base_uri": "https://localhost:8080/"
        },
        "id": "cRNKbpBeycT0",
        "outputId": "694a4504-9ed9-4529-d448-25c5c4968c54"
      },
      "execution_count": null,
      "outputs": [
        {
          "output_type": "stream",
          "name": "stdout",
          "text": [
            "*\n",
            "**\n",
            "***\n",
            "****\n",
            "*****\n"
          ]
        }
      ]
    },
    {
      "cell_type": "code",
      "source": [
        "def name(name):\n",
        "  print(f\"내 이름은 {name}야. 만나서 반가워\")\n",
        "name(\"채송화\")\n",
        "name(\"아이유\")"
      ],
      "metadata": {
        "colab": {
          "base_uri": "https://localhost:8080/"
        },
        "id": "mWyCGKmEy5Ff",
        "outputId": "d1d1ffb1-6010-40f9-ec60-6c3d02133d64"
      },
      "execution_count": null,
      "outputs": [
        {
          "output_type": "stream",
          "name": "stdout",
          "text": [
            "내 이름은 채송화야. 만나서 반가워\n",
            "내 이름은 아이유야. 만나서 반가워\n"
          ]
        }
      ]
    },
    {
      "cell_type": "code",
      "source": [
        "def even(a):\n",
        "  if a%2 == 0:\n",
        "    print(\"짝수\")\n",
        "  else:\n",
        "    print(\"홀수\")\n",
        "even(11)"
      ],
      "metadata": {
        "colab": {
          "base_uri": "https://localhost:8080/"
        },
        "id": "PUWgIJ6Zz6vu",
        "outputId": "fc6897d8-6d59-45b7-fb08-c0a9e6aa3de6"
      },
      "execution_count": null,
      "outputs": [
        {
          "output_type": "stream",
          "name": "stdout",
          "text": [
            "홀수\n"
          ]
        }
      ]
    },
    {
      "cell_type": "code",
      "source": [
        "def triangle(n):\n",
        "  for i in range(n):\n",
        "    for j in range(i+1):\n",
        "      print('*', end='')\n",
        "    print()\n",
        "triangle(3)"
      ],
      "metadata": {
        "colab": {
          "base_uri": "https://localhost:8080/"
        },
        "id": "tG66tz0t0QWM",
        "outputId": "1f1ed192-830b-4f87-e1f4-e0e5cb6236f2"
      },
      "execution_count": null,
      "outputs": [
        {
          "output_type": "stream",
          "name": "stdout",
          "text": [
            "*\n",
            "**\n",
            "***\n"
          ]
        }
      ]
    },
    {
      "cell_type": "code",
      "source": [
        "def print_n_times(value, n):\n",
        "  for i in range(n):\n",
        "    print(value)\n",
        "print_n_times(\"안녕하세요\", 2)\n",
        "print_n_times(\"반가워요\", 3)"
      ],
      "metadata": {
        "colab": {
          "base_uri": "https://localhost:8080/"
        },
        "id": "-SMFSJhF0lu6",
        "outputId": "0a6e1b19-f835-4110-eaea-33939e6e956b"
      },
      "execution_count": null,
      "outputs": [
        {
          "output_type": "stream",
          "name": "stdout",
          "text": [
            "안녕하세요\n",
            "안녕하세요\n",
            "반가워요\n",
            "반가워요\n",
            "반가워요\n"
          ]
        }
      ]
    },
    {
      "cell_type": "code",
      "source": [
        "def abg(a, b, c):\n",
        "  sum = a+b+c\n",
        "  print(sum/3)\n",
        "abg(3, 5, 10)"
      ],
      "metadata": {
        "colab": {
          "base_uri": "https://localhost:8080/"
        },
        "id": "zUf4aSXi1EYy",
        "outputId": "9d410f93-d004-48a1-f1e5-518ecc30c24d"
      },
      "execution_count": null,
      "outputs": [
        {
          "output_type": "stream",
          "name": "stdout",
          "text": [
            "6.0\n"
          ]
        }
      ]
    },
    {
      "cell_type": "code",
      "source": [
        "import random\n",
        "\n",
        "def dice_n_times(n):\n",
        "  for i in range(n):\n",
        "    k = rangdom.randint(1,6)\n",
        "    print(i+1, \"번 째 주사위 굴린 결과:\", k)\n",
        "\n",
        "dice_n_times"
      ],
      "metadata": {
        "colab": {
          "base_uri": "https://localhost:8080/"
        },
        "id": "o4n4KlA09F6T",
        "outputId": "dbf5248c-dd2f-4edd-b931-d8a67f6790a6"
      },
      "execution_count": null,
      "outputs": [
        {
          "output_type": "execute_result",
          "data": {
            "text/plain": [
              "<function __main__.dice_n_times(n)>"
            ]
          },
          "metadata": {},
          "execution_count": 22
        }
      ]
    },
    {
      "cell_type": "code",
      "source": [
        "def intsum(*ints):\n",
        "  sum = 0\n",
        "  for i in ints:\n",
        "    sum+=i\n",
        "  return sum\n",
        "print(intsum(1,2,3))\n",
        "print(intsum(5,7,9,11,13))\n",
        "print(intsum(8,9,6,2,9,7,5,8))"
      ],
      "metadata": {
        "colab": {
          "base_uri": "https://localhost:8080/"
        },
        "id": "Egb4k8uH9vhy",
        "outputId": "47a24662-9dd5-4ea6-e4b0-a947a3ec7940"
      },
      "execution_count": null,
      "outputs": [
        {
          "output_type": "stream",
          "name": "stdout",
          "text": [
            "6\n",
            "45\n",
            "54\n"
          ]
        }
      ]
    },
    {
      "cell_type": "code",
      "source": [
        "def print_n_times(n, *values):\n",
        "  for i in range(n):\n",
        "    for value in values:\n",
        "      print(value, end=' ')\n",
        "    print()\n",
        "print_n_times(3, \"안녕하세요\", \"즐거운\", \"파이썬\")"
      ],
      "metadata": {
        "colab": {
          "base_uri": "https://localhost:8080/"
        },
        "id": "OmGkPBjk-ewR",
        "outputId": "85c85b4e-f8cb-42d2-8d8f-260138fbfc80"
      },
      "execution_count": null,
      "outputs": [
        {
          "output_type": "stream",
          "name": "stdout",
          "text": [
            "안녕하세요 즐거운 파이썬 \n",
            "안녕하세요 즐거운 파이썬 \n",
            "안녕하세요 즐거운 파이썬 \n"
          ]
        }
      ]
    },
    {
      "cell_type": "code",
      "source": [
        "def add_mul(choice, *args):\n",
        "  if choice == \"add\":\n",
        "    result = 0\n",
        "    for i in args:\n",
        "      result += i\n",
        "  elif choice == \"mul\":\n",
        "    result = 1\n",
        "    for i in args:\n",
        "      result *= i\n",
        "  print(result)\n",
        "add_mul(\"add\", 1, 2, 3, 4, 5)\n",
        "add_mul(\"mul\", 1, 2, 3, 4, 5)"
      ],
      "metadata": {
        "colab": {
          "base_uri": "https://localhost:8080/"
        },
        "id": "4eIU4hPDBZXU",
        "outputId": "db3e385d-6443-48b9-c4c7-ca27c9ef7252"
      },
      "execution_count": null,
      "outputs": [
        {
          "output_type": "stream",
          "name": "stdout",
          "text": [
            "15\n",
            "120\n"
          ]
        }
      ]
    },
    {
      "cell_type": "code",
      "source": [
        "def star(a, *arges):\n",
        "  for i in arges:\n",
        "    for j in range(int(i)):\n",
        "      print(a, end='')\n",
        "    print()\n",
        "star('*', 3, 5, 2)"
      ],
      "metadata": {
        "colab": {
          "base_uri": "https://localhost:8080/"
        },
        "id": "cOs8M6JkCmNG",
        "outputId": "16383aa2-17f7-44d3-9767-0bc522ee1a38"
      },
      "execution_count": null,
      "outputs": [
        {
          "output_type": "stream",
          "name": "stdout",
          "text": [
            "***\n",
            "*****\n",
            "**\n"
          ]
        }
      ]
    },
    {
      "cell_type": "code",
      "source": [
        "def print_n_times(value, n=2):\n",
        "  for i in range(n):\n",
        "    print(value)\n",
        "print_n_times(\"안녕하세요\")\n",
        "print_n_times(\"안녕히 가세요\", 3)"
      ],
      "metadata": {
        "colab": {
          "base_uri": "https://localhost:8080/"
        },
        "id": "nI9-ArqFDMl_",
        "outputId": "c791f090-40eb-480c-8231-41ca2d01b82c"
      },
      "execution_count": null,
      "outputs": [
        {
          "output_type": "stream",
          "name": "stdout",
          "text": [
            "안녕하세요\n",
            "안녕하세요\n",
            "안녕히 가세요\n",
            "안녕히 가세요\n",
            "안녕히 가세요\n"
          ]
        }
      ]
    },
    {
      "cell_type": "code",
      "source": [
        "def calcstep(begin, end, step=1):\n",
        "  sum = 0\n",
        "  for num in range(begin, end+1, step):\n",
        "    sum+=num\n",
        "  print(f\"{begin}부터 {end}까지의 숫자 중 {step}간격씩 더한 값은 {sum}\")\n",
        "calcstep(1,100,1)\n",
        "calcstep(1,100)"
      ],
      "metadata": {
        "colab": {
          "base_uri": "https://localhost:8080/"
        },
        "id": "7CHQnYPZD6qH",
        "outputId": "ed6fa565-0c34-4818-8c4f-2b237d32a966"
      },
      "execution_count": null,
      "outputs": [
        {
          "output_type": "stream",
          "name": "stdout",
          "text": [
            "1부터 100까지의 숫자 중 1간격씩 더한 값은 5050\n",
            "1부터 100까지의 숫자 중 1간격씩 더한 값은 5050\n"
          ]
        }
      ]
    },
    {
      "cell_type": "code",
      "source": [
        "def fn(a, b, c, d, e):\n",
        "  print(a, b, c, d, e)\n",
        "fn(1,2,3,4,5)\n",
        "fn(a=1, b=2, c=3, d=4, e=5)\n",
        "fn(e=5, b=2, d=4, c=3, a=1)"
      ],
      "metadata": {
        "colab": {
          "base_uri": "https://localhost:8080/"
        },
        "id": "BB7MF9k7Gnyr",
        "outputId": "4bf4c85d-8c64-4b6e-e7cb-73f9f730292f"
      },
      "execution_count": null,
      "outputs": [
        {
          "output_type": "stream",
          "name": "stdout",
          "text": [
            "1 2 3 4 5\n",
            "1 2 3 4 5\n",
            "1 2 3 4 5\n"
          ]
        }
      ]
    },
    {
      "cell_type": "code",
      "source": [
        "def return_test():\n",
        "  print(\"A위치 입니다.\")\n",
        "  return\n",
        "  print(\"B위치 입니다.\")\n",
        "return_test()"
      ],
      "metadata": {
        "colab": {
          "base_uri": "https://localhost:8080/"
        },
        "id": "edTQMQkFNPUX",
        "outputId": "264418b1-7b38-48a6-c8ac-fd22a4322588"
      },
      "execution_count": null,
      "outputs": [
        {
          "output_type": "stream",
          "name": "stdout",
          "text": [
            "A위치 입니다.\n"
          ]
        }
      ]
    },
    {
      "cell_type": "code",
      "source": [
        "def return_test():\n",
        "  return 100\n",
        "value = return_test()\n",
        "print(value)"
      ],
      "metadata": {
        "colab": {
          "base_uri": "https://localhost:8080/"
        },
        "id": "GIZxD5CVNyRV",
        "outputId": "223ff472-0a03-4e6f-8504-a1a2706670f9"
      },
      "execution_count": null,
      "outputs": [
        {
          "output_type": "stream",
          "name": "stdout",
          "text": [
            "100\n"
          ]
        }
      ]
    },
    {
      "cell_type": "code",
      "source": [
        "def add(a, b):\n",
        "  return a+b\n",
        "value = add(123, 300)\n",
        "print(value)"
      ],
      "metadata": {
        "colab": {
          "base_uri": "https://localhost:8080/"
        },
        "id": "Gbd1cfqUONIo",
        "outputId": "1bff411a-61cb-4c99-936f-65e6a8a8fd96"
      },
      "execution_count": null,
      "outputs": [
        {
          "output_type": "stream",
          "name": "stdout",
          "text": [
            "423\n"
          ]
        }
      ]
    },
    {
      "cell_type": "code",
      "source": [
        "def big(a, b):\n",
        "  if a>b:\n",
        "    return a\n",
        "  else:\n",
        "    return b\n",
        "value = big(5, 11)\n",
        "print(value)"
      ],
      "metadata": {
        "colab": {
          "base_uri": "https://localhost:8080/"
        },
        "id": "-lgNbLxlOc91",
        "outputId": "fc9fa89a-d763-4a16-e145-b1e12080cb23"
      },
      "execution_count": null,
      "outputs": [
        {
          "output_type": "stream",
          "name": "stdout",
          "text": [
            "11\n"
          ]
        }
      ]
    },
    {
      "cell_type": "code",
      "source": [
        "def sum_to_n(n):\n",
        "  sum = 0\n",
        "  for i in range(1, n+1):\n",
        "    sum+=i\n",
        "  return sum\n",
        "sum_to_n(10)"
      ],
      "metadata": {
        "colab": {
          "base_uri": "https://localhost:8080/"
        },
        "id": "kOmYtlKjOobb",
        "outputId": "2d3e4dee-7718-4a69-8d47-a8924f8b3c56"
      },
      "execution_count": null,
      "outputs": [
        {
          "output_type": "execute_result",
          "data": {
            "text/plain": [
              "55"
            ]
          },
          "metadata": {},
          "execution_count": 51
        }
      ]
    },
    {
      "cell_type": "code",
      "source": [
        "def min(*numbers):\n",
        "  min_value = numbers[0]\n",
        "  for num in numbers:\n",
        "    if min_value > num:\n",
        "      min_value = num\n",
        "  return min_value\n",
        "result = min(5, 2, 7, 4)\n",
        "print(\"최소값:\", result)"
      ],
      "metadata": {
        "colab": {
          "base_uri": "https://localhost:8080/"
        },
        "id": "LcWI-pDIPBUY",
        "outputId": "39f1acd7-62ba-4a59-94d8-e4823f1e3a62"
      },
      "execution_count": null,
      "outputs": [
        {
          "output_type": "stream",
          "name": "stdout",
          "text": [
            "최소값: 2\n"
          ]
        }
      ]
    },
    {
      "cell_type": "code",
      "source": [
        "def multi_num(num, start, end):\n",
        "  result = []\n",
        "  for n in range(start, end+1):\n",
        "    if n%num == 0:\n",
        "      result.append(n)\n",
        "  return result\n",
        "mult = multi_num(17, 1, 200)\n",
        "print(mult)"
      ],
      "metadata": {
        "colab": {
          "base_uri": "https://localhost:8080/"
        },
        "id": "-1e5wBmCPkDC",
        "outputId": "f40606b0-d6cc-4b7b-d028-e36959039c1f"
      },
      "execution_count": null,
      "outputs": [
        {
          "output_type": "stream",
          "name": "stdout",
          "text": [
            "[17, 34, 51, 68, 85, 102, 119, 136, 153, 170, 187]\n"
          ]
        }
      ]
    },
    {
      "cell_type": "code",
      "source": [
        "def min_max(*args):\n",
        "  min = args[0]\n",
        "  max = args[0]\n",
        "  for arg in args:\n",
        "    if min > arg:\n",
        "      min = arg\n",
        "    if max < arg:\n",
        "      max = arg\n",
        "  return min, max\n",
        "min, max = min_max(52, -3, 23, 89, -21)\n",
        "print(f\"최소 : {min}, 최대 : {max}\")"
      ],
      "metadata": {
        "colab": {
          "base_uri": "https://localhost:8080/"
        },
        "id": "ATMXrYxpQD5p",
        "outputId": "e4e2380d-dd00-49e8-a251-2dd41037b348"
      },
      "execution_count": null,
      "outputs": [
        {
          "output_type": "stream",
          "name": "stdout",
          "text": [
            "최소 : -21, 최대 : 89\n"
          ]
        }
      ]
    },
    {
      "cell_type": "code",
      "source": [
        "import random\n",
        "\n",
        "def position(number, title, column):\n",
        "  print(title)\n",
        "  students = list(range(1, number+1))\n",
        "  random.shuffle(students)\n",
        "  pos = \"\"\n",
        "  for i in range(0, number):\n",
        "    if students[i] < 10:\n",
        "      pos = pos + \"0\" + str(students[i]) + \"번\\t\"\n",
        "    else:\n",
        "      pos = pos + str(students[i]) + \"번\\t\"\n",
        "    if (i+1) % column == 0:\n",
        "      pos = pos + \"\\n\"\n",
        "  print(pos)\n",
        "\n",
        "position(20, title='3-2반', column=5)"
      ],
      "metadata": {
        "colab": {
          "base_uri": "https://localhost:8080/"
        },
        "id": "j2OLax_pRBOU",
        "outputId": "4187c775-32d3-419b-db7a-ee8ca388176d"
      },
      "execution_count": null,
      "outputs": [
        {
          "output_type": "stream",
          "name": "stdout",
          "text": [
            "3-2반\n",
            "10번\t02번\t01번\t17번\t05번\t\n",
            "04번\t06번\t09번\t13번\t19번\t\n",
            "14번\t03번\t20번\t12번\t07번\t\n",
            "15번\t11번\t18번\t16번\t08번\t\n",
            "\n"
          ]
        }
      ]
    },
    {
      "cell_type": "code",
      "source": [],
      "metadata": {
        "id": "PxR-TVvpUaay"
      },
      "execution_count": null,
      "outputs": []
    }
  ]
}