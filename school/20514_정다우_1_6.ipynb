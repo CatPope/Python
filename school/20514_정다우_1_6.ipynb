{
  "nbformat": 4,
  "nbformat_minor": 0,
  "metadata": {
    "colab": {
      "provenance": [],
      "collapsed_sections": [
        "BMCrT65htoYW",
        "4bm1aicyoDMF",
        "6VB1rOG1obfG",
        "eBuAUeAIo6Sj",
        "6bI_fQN5pipJ",
        "mF3f5ZuXpoIx"
      ]
    },
    "kernelspec": {
      "name": "python3",
      "display_name": "Python 3"
    },
    "language_info": {
      "name": "python"
    }
  },
  "cells": [
    {
      "cell_type": "markdown",
      "source": [
        "#입력과 출력"
      ],
      "metadata": {
        "id": "wEzjyq9UtD3O"
      }
    },
    {
      "cell_type": "markdown",
      "source": [
        "## page1"
      ],
      "metadata": {
        "id": "BMCrT65htoYW"
      }
    },
    {
      "cell_type": "code",
      "source": [
        "print(3+4)\n",
        "Print(3+4)\n",
        "PRINT(3+4)"
      ],
      "metadata": {
        "id": "kxNlSs-jtwuI"
      },
      "execution_count": null,
      "outputs": []
    },
    {
      "cell_type": "code",
      "source": [
        "value = 1234\n",
        "print(value)\n",
        "print(value + 100)"
      ],
      "metadata": {
        "colab": {
          "base_uri": "https://localhost:8080/"
        },
        "id": "j1VvzrfMt48-",
        "outputId": "b5e946fc-43c8-4dff-9436-fc534935da20"
      },
      "execution_count": null,
      "outputs": [
        {
          "output_type": "stream",
          "name": "stdout",
          "text": [
            "1234\n",
            "1334\n"
          ]
        }
      ]
    },
    {
      "cell_type": "code",
      "source": [
        "print(3 +4)\n",
        "4 * 5\n",
        "a = 1\n",
        "b = 2\n",
        "print(a +b)"
      ],
      "metadata": {
        "colab": {
          "base_uri": "https://localhost:8080/"
        },
        "id": "li3yOYK3uPh2",
        "outputId": "38401e4c-fa8c-4930-8bb0-0fcfce3f3667"
      },
      "execution_count": null,
      "outputs": [
        {
          "output_type": "stream",
          "name": "stdout",
          "text": [
            "7\n",
            "3\n"
          ]
        }
      ]
    },
    {
      "cell_type": "code",
      "source": [
        "a =  '강아지'\n",
        "b = '고양이'\n",
        "print(a)\n",
        "print(b)"
      ],
      "metadata": {
        "colab": {
          "base_uri": "https://localhost:8080/"
        },
        "id": "tppHY9qqvVWm",
        "outputId": "b1b674ef-00aa-43aa-81a5-01b32394dea2"
      },
      "execution_count": null,
      "outputs": [
        {
          "output_type": "stream",
          "name": "stdout",
          "text": [
            "강아지\n",
            "고양이\n"
          ]
        }
      ]
    },
    {
      "cell_type": "code",
      "source": [
        "print('*       *')\n",
        "print(' *     *')\n",
        "print('  *   *')\n",
        "print('   * *')\n",
        "print('    *')"
      ],
      "metadata": {
        "colab": {
          "base_uri": "https://localhost:8080/"
        },
        "id": "I0dSE6Rhvh0G",
        "outputId": "9a70a77b-4560-44e3-b1c3-ef22b5a00605"
      },
      "execution_count": null,
      "outputs": [
        {
          "output_type": "stream",
          "name": "stdout",
          "text": [
            "*       *\n",
            " *     *\n",
            "  *   *\n",
            "   * *\n",
            "    *\n"
          ]
        }
      ]
    },
    {
      "cell_type": "code",
      "source": [
        "a = '강아지'\n",
        "b = '고양이'\n",
        "print(a, end = '')\n",
        "print(b)"
      ],
      "metadata": {
        "colab": {
          "base_uri": "https://localhost:8080/"
        },
        "id": "nfBK6wY2wGQ_",
        "outputId": "c2fef4cb-7f86-4563-9022-55c8218e1e46"
      },
      "execution_count": null,
      "outputs": [
        {
          "output_type": "stream",
          "name": "stdout",
          "text": [
            "강아지, 고양이\n"
          ]
        }
      ]
    },
    {
      "cell_type": "code",
      "source": [
        "print(34, end = '^^')\n",
        "print(78)"
      ],
      "metadata": {
        "colab": {
          "base_uri": "https://localhost:8080/"
        },
        "id": "_VKgq6XqxXoI",
        "outputId": "da810871-8b6b-4f88-c843-fabd790bcba0"
      },
      "execution_count": null,
      "outputs": [
        {
          "output_type": "stream",
          "name": "stdout",
          "text": [
            "34^^78\n"
          ]
        }
      ]
    },
    {
      "cell_type": "code",
      "source": [
        "a = 12\n",
        "b = 34\n",
        "print(a, b)"
      ],
      "metadata": {
        "colab": {
          "base_uri": "https://localhost:8080/"
        },
        "id": "Hvl5uftCxlRO",
        "outputId": "fed2955b-92fe-4e53-f510-5084bc87d536"
      },
      "execution_count": null,
      "outputs": [
        {
          "output_type": "stream",
          "name": "stdout",
          "text": [
            "12 34\n"
          ]
        }
      ]
    },
    {
      "cell_type": "markdown",
      "source": [
        "## page2"
      ],
      "metadata": {
        "id": "4bm1aicyoDMF"
      }
    },
    {
      "cell_type": "code",
      "source": [
        "a = 12\n",
        "b = 34\n",
        "print(a, b, sep = ',')"
      ],
      "metadata": {
        "colab": {
          "base_uri": "https://localhost:8080/"
        },
        "id": "XOfG01wJx2lO",
        "outputId": "7ec7483a-37df-42ad-bfad-10e5937caddb"
      },
      "execution_count": null,
      "outputs": [
        {
          "output_type": "stream",
          "name": "stdout",
          "text": [
            "12,34\n"
          ]
        }
      ]
    },
    {
      "cell_type": "code",
      "source": [
        "s = '서울'\n",
        "d = '대전'\n",
        "g = '대구'\n",
        "b = '부산'\n",
        "print(s, d, g, b, sep = ' 찍고 ', end = ' 찍고')"
      ],
      "metadata": {
        "colab": {
          "base_uri": "https://localhost:8080/"
        },
        "id": "tsOvjbSZyMEu",
        "outputId": "8e7bd7c2-f2fe-4ba1-b64c-c8042d5f6b84"
      },
      "execution_count": null,
      "outputs": [
        {
          "output_type": "stream",
          "name": "stdout",
          "text": [
            "서울 찍고 대전 찍고 대구 찍고 부산 찍고"
          ]
        }
      ]
    },
    {
      "cell_type": "code",
      "source": [
        "print(12, 34, 56, sep ='^^', end ='-->')\n",
        "print(78)"
      ],
      "metadata": {
        "colab": {
          "base_uri": "https://localhost:8080/"
        },
        "id": "pIPfStCqycge",
        "outputId": "5181a96e-8ace-48d0-e2ca-f61123940097"
      },
      "execution_count": null,
      "outputs": [
        {
          "output_type": "stream",
          "name": "stdout",
          "text": [
            "12^^34^^56-->78\n"
          ]
        }
      ]
    },
    {
      "cell_type": "code",
      "source": [
        "a = 13\n",
        "b = 21\n",
        "print(a, b)\n",
        "print(a, b, sep ='')\n",
        "print(a, b, end ='')"
      ],
      "metadata": {
        "colab": {
          "base_uri": "https://localhost:8080/"
        },
        "id": "6vk_p0El0Y1f",
        "outputId": "6d4e626d-a198-434c-cee9-2d0f77520df9"
      },
      "execution_count": null,
      "outputs": [
        {
          "output_type": "stream",
          "name": "stdout",
          "text": [
            "13 21\n",
            "1321\n",
            "13 21"
          ]
        }
      ]
    },
    {
      "cell_type": "code",
      "source": [
        "age = input('몇 살이세요? ')\n",
        "print(age,'세', sep ='')"
      ],
      "metadata": {
        "colab": {
          "base_uri": "https://localhost:8080/"
        },
        "id": "RZccv9Zs0_6W",
        "outputId": "03d44c33-140a-4cf7-f1bb-d7c20a754401"
      },
      "execution_count": null,
      "outputs": [
        {
          "output_type": "stream",
          "name": "stdout",
          "text": [
            "몇 살이세요? 5\n",
            "5세\n"
          ]
        }
      ]
    },
    {
      "cell_type": "code",
      "source": [
        "name = input('이름을 입력: ')\n",
        "print('안녕하세요', name+'님!')"
      ],
      "metadata": {
        "colab": {
          "base_uri": "https://localhost:8080/"
        },
        "id": "5Uxlp8RS1Wl3",
        "outputId": "859d7be0-b077-4f2c-e704-b2b0fd957e99"
      },
      "execution_count": null,
      "outputs": [
        {
          "output_type": "stream",
          "name": "stdout",
          "text": [
            "이름을 입력: 다우\n",
            "안녕하세요 다우님!\n"
          ]
        }
      ]
    },
    {
      "cell_type": "code",
      "source": [
        "a = input('첫 번째 과일 입력: ')\n",
        "b = input('두 번째 과일 입력: ')\n",
        "print(a+'와(과)', b+'은(는) 내가 좋아하는 과일이다.')"
      ],
      "metadata": {
        "colab": {
          "base_uri": "https://localhost:8080/"
        },
        "id": "mnAI6RAv1-UR",
        "outputId": "fb4211e4-ed69-4b98-bb15-530113df79a0"
      },
      "execution_count": null,
      "outputs": [
        {
          "output_type": "stream",
          "name": "stdout",
          "text": [
            "첫 번째 과일 입력: 탈귀\n",
            "두 번째 과일 입력: 에규\n",
            "탈귀와(과) 에규은(는) 내가 좋아하는 과일이다.\n"
          ]
        }
      ]
    },
    {
      "cell_type": "code",
      "source": [
        "year = input('몇 년도? ')\n",
        "month = input('몇 월? ')\n",
        "day = input('몇 일? ')\n",
        "print(year, '.', month, '.', day)"
      ],
      "metadata": {
        "colab": {
          "base_uri": "https://localhost:8080/"
        },
        "id": "EkPvvfo327CJ",
        "outputId": "57415f5f-5f3f-4233-a6f8-d76dc15b08f0"
      },
      "execution_count": null,
      "outputs": [
        {
          "output_type": "stream",
          "name": "stdout",
          "text": [
            "몇 년도? 2032\n",
            "몇 월? 4\n",
            "몇 일? 23\n",
            "2032 . 4 . 23\n"
          ]
        }
      ]
    },
    {
      "cell_type": "code",
      "source": [
        "age = input('몇 살이세요? ')\n",
        "print(age + age)"
      ],
      "metadata": {
        "colab": {
          "base_uri": "https://localhost:8080/"
        },
        "id": "jsymhBUm3j7u",
        "outputId": "33cd065f-e6e1-4fdb-d9f3-ebca5b794f34"
      },
      "execution_count": null,
      "outputs": [
        {
          "output_type": "stream",
          "name": "stdout",
          "text": [
            "몇 살이세요? 13\n",
            "1313\n"
          ]
        }
      ]
    },
    {
      "cell_type": "code",
      "source": [
        "print(type('안녕하세요'))\n",
        "print(type(273))\n",
        "print(type(3.141592))"
      ],
      "metadata": {
        "colab": {
          "base_uri": "https://localhost:8080/"
        },
        "id": "R2b8bVdK4odB",
        "outputId": "5c7e28e2-60e8-4e97-a54c-bf889721780f"
      },
      "execution_count": null,
      "outputs": [
        {
          "output_type": "stream",
          "name": "stdout",
          "text": [
            "<class 'str'>\n",
            "<class 'int'>\n",
            "<class 'float'>\n"
          ]
        }
      ]
    },
    {
      "cell_type": "code",
      "source": [
        "import keyword\n",
        "print(keyword.kwlist)\n",
        "print(len(keyword.kwlist))"
      ],
      "metadata": {
        "colab": {
          "base_uri": "https://localhost:8080/"
        },
        "id": "M69l6D8B6Mrh",
        "outputId": "5624ed80-73a4-41af-9bb0-5a7cfa9fa940"
      },
      "execution_count": null,
      "outputs": [
        {
          "output_type": "stream",
          "name": "stdout",
          "text": [
            "['False', 'None', 'True', '__peg_parser__', 'and', 'as', 'assert', 'async', 'await', 'break', 'class', 'continue', 'def', 'del', 'elif', 'else', 'except', 'finally', 'for', 'from', 'global', 'if', 'import', 'in', 'is', 'lambda', 'nonlocal', 'not', 'or', 'pass', 'raise', 'return', 'try', 'while', 'with', 'yield']\n",
            "36\n"
          ]
        }
      ]
    },
    {
      "cell_type": "markdown",
      "source": [
        "## page3"
      ],
      "metadata": {
        "id": "6VB1rOG1obfG"
      }
    },
    {
      "cell_type": "code",
      "source": [
        "age = input('몇 살이세용? ')\n",
        "age = int(age)\n",
        "print(age + age)"
      ],
      "metadata": {
        "colab": {
          "base_uri": "https://localhost:8080/"
        },
        "id": "0JWX1dEs34gX",
        "outputId": "1312e35b-7cb7-45ef-caf6-23f6cd1c9b3a"
      },
      "execution_count": null,
      "outputs": [
        {
          "output_type": "stream",
          "name": "stdout",
          "text": [
            "몇 살이세용? 12\n",
            "24\n"
          ]
        }
      ]
    },
    {
      "cell_type": "code",
      "source": [
        "price = input('가격을 입력하세요: ')\n",
        "num = input('개수를 입력하세요: ')\n",
        "price = int(price)\n",
        "num = int (num)\n",
        "print('총액은', sum,'원입니다.')"
      ],
      "metadata": {
        "colab": {
          "base_uri": "https://localhost:8080/"
        },
        "id": "Wt49vMFP4Jfn",
        "outputId": "32e931a4-e527-437e-94ed-4df386c4eaf3"
      },
      "execution_count": null,
      "outputs": [
        {
          "output_type": "stream",
          "name": "stdout",
          "text": [
            "가격을 입력하세요: 100\n",
            "개수를 입력하세요: 5\n",
            "총액은 500 원입니다.\n"
          ]
        }
      ]
    },
    {
      "cell_type": "code",
      "source": [
        "width = int(input('사각형의 가로 '))\n",
        "height = int(input('사각형의 세로 '))\n",
        "print('사각형의 면적은 ', width * height, '입니다.', sep = '')"
      ],
      "metadata": {
        "colab": {
          "base_uri": "https://localhost:8080/"
        },
        "id": "EuGUz-JM7XVx",
        "outputId": "ca5d76ec-f6c2-4ba3-c6a4-6a0154bef8ec"
      },
      "execution_count": null,
      "outputs": [
        {
          "output_type": "stream",
          "name": "stdout",
          "text": [
            "사각형의 가로5\n",
            "사각형의 세로10\n",
            "사각형의 면적은 50입니다.\n"
          ]
        }
      ]
    },
    {
      "cell_type": "code",
      "source": [
        "name = input('이름? ')\n",
        "year = int(input('태어난 해는? '))\n",
        "print(name, ' 님의 나이는 ', 2023 - year,'세 입니다.')"
      ],
      "metadata": {
        "colab": {
          "base_uri": "https://localhost:8080/"
        },
        "id": "d7WwyYtG-uFh",
        "outputId": "a97e4c7e-a006-462e-b04b-e112989a080a"
      },
      "execution_count": null,
      "outputs": [
        {
          "output_type": "stream",
          "name": "stdout",
          "text": [
            "이름? 다우\n",
            "태어난 해는? 2006\n",
            "다우  님의 나이는  17 세 입니다.\n"
          ]
        }
      ]
    },
    {
      "cell_type": "code",
      "source": [
        "cos = int(input('물건의 가격은?: '))\n",
        "num = int(input('물건 구매 개수?: '))\n",
        "tot = int(input('지불한 돈?: '))\n",
        "print('거스름돈은', tot - num * cos, '원 입니다.')"
      ],
      "metadata": {
        "colab": {
          "base_uri": "https://localhost:8080/"
        },
        "id": "lU2F0keJCbKU",
        "outputId": "8f985e65-ee1c-4439-99a9-c3a4453ae3ef"
      },
      "execution_count": null,
      "outputs": [
        {
          "output_type": "stream",
          "name": "stdout",
          "text": [
            "물건의 가격은?: 500\n",
            "물건 구매 개수?: 4\n",
            "지불한 돈?: 5000\n",
            "거스름돈은 3000 원 입니다.\n"
          ]
        }
      ]
    },
    {
      "cell_type": "markdown",
      "source": [
        "##page4"
      ],
      "metadata": {
        "id": "eBuAUeAIo6Sj"
      }
    },
    {
      "cell_type": "code",
      "source": [
        "score = 100\n",
        "print(score)\n",
        "print(type(score))"
      ],
      "metadata": {
        "colab": {
          "base_uri": "https://localhost:8080/"
        },
        "id": "ouB3c3a75tzA",
        "outputId": "f49e6e8e-6236-4a7b-b0a6-46af1fb5d766"
      },
      "execution_count": null,
      "outputs": [
        {
          "output_type": "stream",
          "name": "stdout",
          "text": [
            "100\n",
            "<class 'int'>\n"
          ]
        }
      ]
    },
    {
      "cell_type": "code",
      "source": [
        "점수 = 'high'\n",
        "print(점수)\n",
        "print(type(점수))"
      ],
      "metadata": {
        "colab": {
          "base_uri": "https://localhost:8080/"
        },
        "id": "ZmSB4AyO6Ed4",
        "outputId": "a70f6fad-fc5a-472b-c870-a13e53f20f5d"
      },
      "execution_count": null,
      "outputs": [
        {
          "output_type": "stream",
          "name": "stdout",
          "text": [
            "high\n",
            "<class 'str'>\n"
          ]
        }
      ]
    },
    {
      "cell_type": "markdown",
      "source": [
        "##page5"
      ],
      "metadata": {
        "id": "6bI_fQN5pipJ"
      }
    },
    {
      "cell_type": "code",
      "source": [
        "num = 123456789\n",
        "print(num)\n",
        "print(type(num))"
      ],
      "metadata": {
        "colab": {
          "base_uri": "https://localhost:8080/"
        },
        "id": "mHzFe0jvDOyp",
        "outputId": "e5efe85e-4188-4a0a-a818-a79c063e8355"
      },
      "execution_count": null,
      "outputs": [
        {
          "output_type": "stream",
          "name": "stdout",
          "text": [
            "123456789\n",
            "<class 'int'>\n"
          ]
        }
      ]
    },
    {
      "cell_type": "code",
      "source": [
        "num = -20909\n",
        "print(num)\n",
        "print(type(num))"
      ],
      "metadata": {
        "colab": {
          "base_uri": "https://localhost:8080/"
        },
        "id": "Qcrg_Mb_DoAQ",
        "outputId": "d36480ea-96ef-404b-c742-59620ad44492"
      },
      "execution_count": null,
      "outputs": [
        {
          "output_type": "stream",
          "name": "stdout",
          "text": [
            "-20909\n",
            "<class 'int'>\n"
          ]
        }
      ]
    },
    {
      "cell_type": "code",
      "source": [
        "a = 1.5\n",
        "b = -3.5\n",
        "print(a, b)\n",
        "print(type(a), type(b))"
      ],
      "metadata": {
        "colab": {
          "base_uri": "https://localhost:8080/"
        },
        "id": "E6M0K-7pDxzg",
        "outputId": "2e67cb68-1a9b-4ad5-b3ae-28e2e9494583"
      },
      "execution_count": null,
      "outputs": [
        {
          "output_type": "stream",
          "name": "stdout",
          "text": [
            "1.5 -3.5\n",
            "<class 'float'> <class 'float'>\n"
          ]
        }
      ]
    },
    {
      "cell_type": "code",
      "source": [
        "x = 3.3764\n",
        "y =6/2\n",
        "print(x, y)\n",
        "print(type(x), type(y))"
      ],
      "metadata": {
        "colab": {
          "base_uri": "https://localhost:8080/"
        },
        "id": "38J3zDl8D91w",
        "outputId": "bce10fda-951c-448a-982f-55e81e020dda"
      },
      "execution_count": null,
      "outputs": [
        {
          "output_type": "stream",
          "name": "stdout",
          "text": [
            "3.3764 3.0\n",
            "<class 'float'> <class 'float'>\n"
          ]
        }
      ]
    },
    {
      "cell_type": "code",
      "source": [
        "a = \"Korea 서울 1234\"\n",
        "print(a)\n",
        "print(type(a))"
      ],
      "metadata": {
        "colab": {
          "base_uri": "https://localhost:8080/"
        },
        "id": "AeWqlKFNENzh",
        "outputId": "98888b22-4753-4ae0-daff-e87fe28a4f0a"
      },
      "execution_count": null,
      "outputs": [
        {
          "output_type": "stream",
          "name": "stdout",
          "text": [
            "Korea 서울 1234\n",
            "<class 'str'>\n"
          ]
        }
      ]
    },
    {
      "cell_type": "code",
      "source": [
        "a = 30\n",
        "print(a)\n",
        "print(type(a))\n",
        "\n",
        "b = '30'\n",
        "print(b)\n",
        "print(type(b))"
      ],
      "metadata": {
        "colab": {
          "base_uri": "https://localhost:8080/"
        },
        "id": "ThRw4jV4EaAA",
        "outputId": "cfad9266-de1a-4208-fd62-ea353ad54728"
      },
      "execution_count": null,
      "outputs": [
        {
          "output_type": "stream",
          "name": "stdout",
          "text": [
            "30\n",
            "<class 'int'>\n",
            "30\n",
            "<class 'str'>\n"
          ]
        }
      ]
    },
    {
      "cell_type": "code",
      "source": [
        "a = 5\n",
        "b = a==5\n",
        "print(b)"
      ],
      "metadata": {
        "colab": {
          "base_uri": "https://localhost:8080/"
        },
        "id": "GGBIKfKxEpRZ",
        "outputId": "4cfda94a-1921-42b0-b4a1-7b5fd223d3a2"
      },
      "execution_count": null,
      "outputs": [
        {
          "output_type": "stream",
          "name": "stdout",
          "text": [
            "True\n"
          ]
        }
      ]
    },
    {
      "cell_type": "code",
      "source": [
        "if a==5:\n",
        "    print('a는 5')"
      ],
      "metadata": {
        "colab": {
          "base_uri": "https://localhost:8080/"
        },
        "id": "TWEEI9QOE4Gp",
        "outputId": "130d68db-95be-476b-c3eb-44682d0c446b"
      },
      "execution_count": null,
      "outputs": [
        {
          "output_type": "stream",
          "name": "stdout",
          "text": [
            "a는 5\n"
          ]
        }
      ]
    },
    {
      "cell_type": "markdown",
      "source": [
        "##page6"
      ],
      "metadata": {
        "id": "mF3f5ZuXpoIx"
      }
    },
    {
      "cell_type": "code",
      "source": [
        "a = input('첫번째숫자를입력하세요: ')\n",
        "b = input('두번째숫자를입력하세요: ')\n",
        "c = int(a) + int(b)\n",
        "print(c)"
      ],
      "metadata": {
        "colab": {
          "base_uri": "https://localhost:8080/"
        },
        "id": "J_8DSCAkFAT4",
        "outputId": "5f102e2d-bb24-4d0a-b707-c7f6df4779c7"
      },
      "execution_count": null,
      "outputs": [
        {
          "output_type": "stream",
          "name": "stdout",
          "text": [
            "첫번째숫자를입력하세요: 1\n",
            "두번째숫자를입력하세요: 2\n",
            "3\n"
          ]
        }
      ]
    },
    {
      "cell_type": "code",
      "source": [
        "inch = float(input('인치를 입력하세요: '))\n",
        "print('센치미터: ', inch * 2.54, 'cm', sep='')"
      ],
      "metadata": {
        "colab": {
          "base_uri": "https://localhost:8080/"
        },
        "id": "8vBly_EMFc5I",
        "outputId": "2d0e88b0-f0ae-4ea2-cc26-1ad25a70b64f"
      },
      "execution_count": null,
      "outputs": [
        {
          "output_type": "stream",
          "name": "stdout",
          "text": [
            "인치를 입력하세요: 3.5\n",
            "센치미터: 8.89cm\n"
          ]
        }
      ]
    },
    {
      "cell_type": "code",
      "source": [
        "r = int(input('반지름은?: '))\n",
        "roun = 2 * r * 3.14\n",
        "area = r * r * 3.14\n",
        "print(f'반지름이 {r}인 원의 둘레는 {roun: .2f}이고, 면적은 {area}이다.')"
      ],
      "metadata": {
        "colab": {
          "base_uri": "https://localhost:8080/"
        },
        "id": "s1D5uwINF_kJ",
        "outputId": "cf0ea5f8-b75d-40d0-ceae-23e2c589cb07"
      },
      "execution_count": null,
      "outputs": [
        {
          "output_type": "stream",
          "name": "stdout",
          "text": [
            "반지름은?: 7\n",
            "반지름이 7인 원의 둘레는  43.96이고, 면적은 153.86이다.\n"
          ]
        }
      ]
    },
    {
      "cell_type": "code",
      "source": [
        "hight = int(input(\"현재 키는?: \"))\n",
        "goul = float(input(\"5개월 후의 목표 키는? \"))\n",
        "ave = (goul - hight) / 5\n",
        "print(f\"한달에 {ave: .1f}cm씩 성장해 보세요!\")"
      ],
      "metadata": {
        "colab": {
          "base_uri": "https://localhost:8080/"
        },
        "id": "GiR6AutbIbXR",
        "outputId": "9039b4bf-8bd9-4946-b7bb-e9d4bc28dbd2"
      },
      "execution_count": null,
      "outputs": [
        {
          "output_type": "stream",
          "name": "stdout",
          "text": [
            "현재 키는?: 160\n",
            "5개월 후의 목표 키는? 168\n",
            "한달에  1.6cm씩 성장해 보세요!\n"
          ]
        }
      ]
    },
    {
      "cell_type": "code",
      "source": [
        "booook = int(input(\"책 값: \"))\n",
        "discount = float(input(\"할인율(%)\"))\n",
        "delivery = int(input(\"배송비: \"))\n",
        "total = booook - (booook / discount) + delivery\n",
        "print(f\"결재하실 금액은 {total:.1f}원 입니다.\")"
      ],
      "metadata": {
        "colab": {
          "base_uri": "https://localhost:8080/"
        },
        "id": "YrfALRimKfqa",
        "outputId": "1356dbe0-167b-46d2-e8f2-d525dbd73807"
      },
      "execution_count": null,
      "outputs": [
        {
          "output_type": "stream",
          "name": "stdout",
          "text": [
            "책 값: 3000\n",
            "할인율(%)10\n",
            "배송비: 3000\n",
            "결재하실 금액은 5700.0원 입니다.\n"
          ]
        }
      ]
    },
    {
      "cell_type": "code",
      "source": [
        "fir = float(input(\"첫 번째 과목\"))\n",
        "sec = float(input(\"두 번째 과목\"))\n",
        "ave = (fir + sec) / 2\n",
        "print(\"합계: \", fir + sec, \"평균\", ave)"
      ],
      "metadata": {
        "colab": {
          "base_uri": "https://localhost:8080/"
        },
        "id": "RiQjIJtuL1Q0",
        "outputId": "e8ac9415-9b1b-45d2-abc1-8b4946c9dbcc"
      },
      "execution_count": null,
      "outputs": [
        {
          "output_type": "stream",
          "name": "stdout",
          "text": [
            "첫 번째 과목86\n",
            "두 번째 과목90\n",
            "합계:  176.0 평균 88.0\n"
          ]
        }
      ]
    }
  ]
}