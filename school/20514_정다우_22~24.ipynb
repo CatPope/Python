{
  "nbformat": 4,
  "nbformat_minor": 0,
  "metadata": {
    "colab": {
      "provenance": []
    },
    "kernelspec": {
      "name": "python3",
      "display_name": "Python 3"
    },
    "language_info": {
      "name": "python"
    }
  },
  "cells": [
    {
      "cell_type": "code",
      "execution_count": 94,
      "metadata": {
        "colab": {
          "base_uri": "https://localhost:8080/"
        },
        "id": "qk5BfaHAKnom",
        "outputId": "3c008cde-8414-4106-afe0-9bb8af621648"
      },
      "outputs": [
        {
          "output_type": "stream",
          "name": "stdout",
          "text": [
            "['red', 'blue', 'green']\n",
            "<class 'list'>\n",
            "blue\n"
          ]
        }
      ],
      "source": [
        "#llist\n",
        "colors=['red', 'blue', 'green']\n",
        "print(colors)\n",
        "print(type(colors))\n",
        "print(colors[1])"
      ]
    },
    {
      "cell_type": "code",
      "source": [
        "#1\n",
        "price = [500, 5000, 8900, 1800, 2500]\n",
        "fruit = ['사과', '파인애플', '수박']\n",
        "print(price)\n",
        "print(type(price))\n",
        "print(fruit)\n",
        "print(type(fruit))"
      ],
      "metadata": {
        "colab": {
          "base_uri": "https://localhost:8080/"
        },
        "id": "Oy_jQBN7L4Em",
        "outputId": "d1b01e57-8eed-4045-b6d5-1a93f35ad98d"
      },
      "execution_count": 95,
      "outputs": [
        {
          "output_type": "stream",
          "name": "stdout",
          "text": [
            "[500, 5000, 8900, 1800, 2500]\n",
            "<class 'list'>\n",
            "['사과', '파인애플', '수박']\n",
            "<class 'list'>\n"
          ]
        }
      ]
    },
    {
      "cell_type": "code",
      "source": [
        "#2\n",
        "fruit = ['사과', 1500, '수박', 8900]\n",
        "print(fruit[0], \"의 자료형은\", type(fruit[0]), \"이다.\")\n",
        "print(fruit[1], \"의 자료형은\", type(fruit[1]), \"이다.\")\n",
        "print(fruit[2], \"의 자료형은\", type(fruit[2]), \"이다.\")\n",
        "print(fruit[3], \"의 자료형은\", type(fruit[3]), \"이다.\")"
      ],
      "metadata": {
        "colab": {
          "base_uri": "https://localhost:8080/"
        },
        "id": "KkXrvOS_MvYt",
        "outputId": "b0aa3fd1-9b61-4f65-ba5f-9614c2596b86"
      },
      "execution_count": 96,
      "outputs": [
        {
          "output_type": "stream",
          "name": "stdout",
          "text": [
            "사과 의 자료형은 <class 'str'> 이다.\n",
            "1500 의 자료형은 <class 'int'> 이다.\n",
            "수박 의 자료형은 <class 'str'> 이다.\n",
            "8900 의 자료형은 <class 'int'> 이다.\n"
          ]
        }
      ]
    },
    {
      "cell_type": "code",
      "source": [
        "#3\n",
        "a = []\n",
        "b  = []\n",
        "print(type(a))\n",
        "print(type(b))"
      ],
      "metadata": {
        "colab": {
          "base_uri": "https://localhost:8080/"
        },
        "id": "NNBpO21dOo4W",
        "outputId": "b7bf49f4-71e6-43e9-a744-91b3074bf960"
      },
      "execution_count": 97,
      "outputs": [
        {
          "output_type": "stream",
          "name": "stdout",
          "text": [
            "<class 'list'>\n",
            "<class 'list'>\n"
          ]
        }
      ]
    },
    {
      "cell_type": "code",
      "source": [
        "#4\n",
        "num = list(range(1, 21, 2))\n",
        "a = list(\"Korea\")\n",
        "print(num)\n",
        "print(type(num))\n",
        "print(a)\n",
        "print(type(a))"
      ],
      "metadata": {
        "colab": {
          "base_uri": "https://localhost:8080/"
        },
        "id": "0Hw17APjPe-M",
        "outputId": "3ac6737e-d3a2-495c-c4f6-264826f2dafd"
      },
      "execution_count": 98,
      "outputs": [
        {
          "output_type": "stream",
          "name": "stdout",
          "text": [
            "[1, 3, 5, 7, 9, 11, 13, 15, 17, 19]\n",
            "<class 'list'>\n",
            "['K', 'o', 'r', 'e', 'a']\n",
            "<class 'list'>\n"
          ]
        }
      ]
    },
    {
      "cell_type": "code",
      "source": [
        "#5\n",
        "num = list(range(1, 21, 2))\n",
        "a = list(\"Korea\")\n",
        "print(len(num))\n",
        "print(len(a))"
      ],
      "metadata": {
        "colab": {
          "base_uri": "https://localhost:8080/"
        },
        "id": "_UO50OIRP3zM",
        "outputId": "11fb72e4-1e47-4ab7-d839-b2b097d660d7"
      },
      "execution_count": 99,
      "outputs": [
        {
          "output_type": "stream",
          "name": "stdout",
          "text": [
            "10\n",
            "5\n"
          ]
        }
      ]
    },
    {
      "cell_type": "code",
      "source": [
        "#6\n",
        "score = [88, 95, 70, 100, 99]\n",
        "print(\"학생 수는\", len(score), \"명 입니다.\")\n",
        "print(\"최고 점수는\", max(score), \"점 입니다.\")\n",
        "print(\"최저 점수는\", min(score), \"점 입니다.\")"
      ],
      "metadata": {
        "colab": {
          "base_uri": "https://localhost:8080/"
        },
        "id": "2dFnzIrWTbHU",
        "outputId": "5def9c00-09ff-4159-99dd-a80e4c95f4e7"
      },
      "execution_count": 100,
      "outputs": [
        {
          "output_type": "stream",
          "name": "stdout",
          "text": [
            "학생 수는 5 명 입니다.\n",
            "최고 점수는 100 점 입니다.\n",
            "최저 점수는 70 점 입니다.\n"
          ]
        }
      ]
    },
    {
      "cell_type": "code",
      "source": [
        "#7\n",
        "                score = [88, 95, 70, 100, 99]\n",
        "                for i in range(5) :\n",
        "                  print(score[i], end=' ')\n",
        "                print(\"\")\n",
        "                for i in range(-1, -4, -1) :\n",
        "                  print(score[i], end=' ')"
      ],
      "metadata": {
        "id": "KLFcBsMZUXSU",
        "colab": {
          "base_uri": "https://localhost:8080/"
        },
        "outputId": "7e7176d2-bcac-4f71-b492-f1d080f3339e"
      },
      "execution_count": 101,
      "outputs": [
        {
          "output_type": "stream",
          "name": "stdout",
          "text": [
            "88 95 70 100 99 \n",
            "99 100 70 "
          ]
        }
      ]
    },
    {
      "cell_type": "code",
      "source": [
        "#8\n",
        "score = [88, 95, 70, 100, 99]\n",
        "score[0] = 10\n",
        "score[1] = 20\n",
        "score[2] = 30\n",
        "score[3] = 40\n",
        "score[4] = 50\n",
        "print(score)"
      ],
      "metadata": {
        "colab": {
          "base_uri": "https://localhost:8080/"
        },
        "id": "84dlIcmJXhgV",
        "outputId": "e6d85b02-86ce-4d32-b33e-c9633fd67065"
      },
      "execution_count": 102,
      "outputs": [
        {
          "output_type": "stream",
          "name": "stdout",
          "text": [
            "[10, 20, 30, 40, 50]\n"
          ]
        }
      ]
    },
    {
      "cell_type": "code",
      "source": [
        "#9\n",
        "animal = [\"토끼\", \"거북이\", \"사자\", \"호랑이\"]\n",
        "\n",
        "i = 0\n",
        "while i <= 3 :\n",
        "  print(animal[i])\n",
        "  i+=1"
      ],
      "metadata": {
        "colab": {
          "base_uri": "https://localhost:8080/"
        },
        "id": "BoWzwxhnW-Td",
        "outputId": "a2d969cd-97ab-44bf-b797-61a444af0e41"
      },
      "execution_count": 103,
      "outputs": [
        {
          "output_type": "stream",
          "name": "stdout",
          "text": [
            "토끼\n",
            "거북이\n",
            "사자\n",
            "호랑이\n"
          ]
        }
      ]
    },
    {
      "cell_type": "code",
      "source": [
        "#10\n",
        "nums = [0,1,2,3,4,5,6,7,8,9]\n",
        "print(nums[2 : 5])\n",
        "print(nums[1 : 6 : 2])\n",
        "print(nums[0 : 5 : 2])"
      ],
      "metadata": {
        "colab": {
          "base_uri": "https://localhost:8080/"
        },
        "id": "ZIg8ZhGeYzfb",
        "outputId": "d85f31a6-f9f1-4a94-8792-a4fb66046c95"
      },
      "execution_count": 104,
      "outputs": [
        {
          "output_type": "stream",
          "name": "stdout",
          "text": [
            "[2, 3, 4]\n",
            "[1, 3, 5]\n",
            "[0, 2, 4]\n"
          ]
        }
      ]
    },
    {
      "cell_type": "code",
      "source": [
        "#11\n",
        "nums = [0,1,2,3,4,5,6,7,8,9]\n",
        "print(nums[0 : 5])\n",
        "print(nums[0 : 7 : 2])\n",
        "print(nums[0 : 5 : 2])"
      ],
      "metadata": {
        "colab": {
          "base_uri": "https://localhost:8080/"
        },
        "id": "OkRVzrMTY2ij",
        "outputId": "023fca4d-51f1-4435-9d1b-99b1108f1a45"
      },
      "execution_count": 105,
      "outputs": [
        {
          "output_type": "stream",
          "name": "stdout",
          "text": [
            "[0, 1, 2, 3, 4]\n",
            "[0, 2, 4, 6]\n",
            "[0, 2, 4]\n"
          ]
        }
      ]
    },
    {
      "cell_type": "code",
      "source": [
        "#12\n",
        "nums = [0,1,2,3,4,5,6,7,8,9]\n",
        "print(nums[2:])\n",
        "print(nums[1 : : 2])\n",
        "print(nums[0 : : 2])"
      ],
      "metadata": {
        "colab": {
          "base_uri": "https://localhost:8080/"
        },
        "id": "QKKssW4BaXGs",
        "outputId": "d11b9274-4851-4d0a-a1fc-cb428435341a"
      },
      "execution_count": 106,
      "outputs": [
        {
          "output_type": "stream",
          "name": "stdout",
          "text": [
            "[2, 3, 4, 5, 6, 7, 8, 9]\n",
            "[1, 3, 5, 7, 9]\n",
            "[0, 2, 4, 6, 8]\n"
          ]
        }
      ]
    },
    {
      "cell_type": "code",
      "source": [
        "#13\n",
        "nums = [0,1,2,3,4,5,6,7,8,9]\n",
        "print(nums[2: 5])\n",
        "print(nums[1 : 7])\n",
        "print(nums[0 : 5])"
      ],
      "metadata": {
        "colab": {
          "base_uri": "https://localhost:8080/"
        },
        "id": "rMl66qSpa3fS",
        "outputId": "625bc68b-c8b0-4be9-adf3-ee3030e452dd"
      },
      "execution_count": 107,
      "outputs": [
        {
          "output_type": "stream",
          "name": "stdout",
          "text": [
            "[2, 3, 4]\n",
            "[1, 2, 3, 4, 5, 6]\n",
            "[0, 1, 2, 3, 4]\n"
          ]
        }
      ]
    },
    {
      "cell_type": "code",
      "source": [
        "#14\n",
        "fruit = ['사과', '오렌지', '딸기', '포도', '감', '키위', '멜론', '수박']\n",
        "print(fruit[0])\n",
        "print(fruit[1 : 5])\n",
        "print(fruit[2 : ])\n",
        "print(fruit[7])\n",
        "print(fruit[4 : 6])\n",
        "print(fruit[5 : 8])"
      ],
      "metadata": {
        "colab": {
          "base_uri": "https://localhost:8080/"
        },
        "id": "ZZus-99AbDMr",
        "outputId": "fcb96ea4-efaa-4f16-93f0-84a4164e2ee1"
      },
      "execution_count": 108,
      "outputs": [
        {
          "output_type": "stream",
          "name": "stdout",
          "text": [
            "사과\n",
            "['오렌지', '딸기', '포도', '감']\n",
            "['딸기', '포도', '감', '키위', '멜론', '수박']\n",
            "수박\n",
            "['감', '키위']\n",
            "['키위', '멜론', '수박']\n"
          ]
        }
      ]
    },
    {
      "cell_type": "code",
      "source": [
        "#15\n",
        "print(list(\"Korea\"))"
      ],
      "metadata": {
        "colab": {
          "base_uri": "https://localhost:8080/"
        },
        "id": "dwtCg_kec8lc",
        "outputId": "39497559-bab3-43cc-ed07-c56c1d70636a"
      },
      "execution_count": 109,
      "outputs": [
        {
          "output_type": "stream",
          "name": "stdout",
          "text": [
            "['K', 'o', 'r', 'e', 'a']\n"
          ]
        }
      ]
    },
    {
      "cell_type": "code",
      "source": [
        "#16\n",
        "my_list = list(\"PythonIsFun!\")\n",
        "print(my_list[0 : ])\n",
        "print(my_list[5 : 11])\n",
        "print(my_list[7 : 10])\n",
        "print(my_list[0 : 4])\n",
        "print(my_list[8 : 12])"
      ],
      "metadata": {
        "colab": {
          "base_uri": "https://localhost:8080/"
        },
        "id": "GfSD1ZQddPSS",
        "outputId": "091e2c85-8b84-4f25-f9b6-9ee204618f4f"
      },
      "execution_count": 110,
      "outputs": [
        {
          "output_type": "stream",
          "name": "stdout",
          "text": [
            "['P', 'y', 't', 'h', 'o', 'n', 'I', 's', 'F', 'u', 'n', '!']\n",
            "['n', 'I', 's', 'F', 'u', 'n']\n",
            "['s', 'F', 'u']\n",
            "['P', 'y', 't', 'h']\n",
            "['F', 'u', 'n', '!']\n"
          ]
        }
      ]
    },
    {
      "cell_type": "markdown",
      "source": [
        "#24page"
      ],
      "metadata": {
        "id": "4FWyQUL8oyw7"
      }
    },
    {
      "cell_type": "code",
      "source": [
        "#17\n",
        "s = \"python\"\n",
        "print(s[2])\n",
        "print(s[4])\n",
        "print(s[1 : 4])"
      ],
      "metadata": {
        "colab": {
          "base_uri": "https://localhost:8080/"
        },
        "id": "Ikb8OS0GewJi",
        "outputId": "45fd9879-671e-469c-e20c-9126300e41f6"
      },
      "execution_count": 111,
      "outputs": [
        {
          "output_type": "stream",
          "name": "stdout",
          "text": [
            "t\n",
            "o\n",
            "yth\n"
          ]
        }
      ]
    },
    {
      "cell_type": "code",
      "source": [
        "#18\n",
        "file = \"20210505-104830.jpg\"\n",
        "print(\"촬영 날짜:\", file[4 : 6], \"월\", file[6 : 8], \"일\")\n",
        "print(\"촬영 시간:\", file[-10 : -8], \"시\", file[-8 : -6], \"분\")\n",
        "print(\"확장자:\", file[-3 : ])"
      ],
      "metadata": {
        "colab": {
          "base_uri": "https://localhost:8080/"
        },
        "id": "q75qBxY0f6jC",
        "outputId": "11aefa2f-7a49-4dc1-f77c-4d96892bd03a"
      },
      "execution_count": 112,
      "outputs": [
        {
          "output_type": "stream",
          "name": "stdout",
          "text": [
            "촬영 날짜: 05 월 05 일\n",
            "촬영 시간: 10 시 48 분\n",
            "확장자: jpg\n"
          ]
        }
      ]
    },
    {
      "cell_type": "code",
      "source": [
        "#19\n",
        "s = \"차종: 코란도C, 제조사: 쌍용, 배기량: 1998\"\n",
        "print(s[15 : 17])"
      ],
      "metadata": {
        "colab": {
          "base_uri": "https://localhost:8080/"
        },
        "id": "T4jOn_Bbgjlq",
        "outputId": "caccdd28-f660-4592-e105-24b78ff86d59"
      },
      "execution_count": 113,
      "outputs": [
        {
          "output_type": "stream",
          "name": "stdout",
          "text": [
            "쌍용\n"
          ]
        }
      ]
    },
    {
      "cell_type": "code",
      "source": [
        "#20\n",
        "jumin = \"901231-1914983\"\n",
        "year = jumin[0 : 2]\n",
        "if jumin[6] == 2 :\n",
        "  gender = \"여자\"\n",
        "else :\n",
        "  gender = \"남자\"\n",
        "print(\"{}년생 {}입니다.\".format(year, gender))"
      ],
      "metadata": {
        "colab": {
          "base_uri": "https://localhost:8080/"
        },
        "id": "QS5v5qfjjBhB",
        "outputId": "97d80a24-0703-488d-c3c1-a52cf02de6fc"
      },
      "execution_count": 115,
      "outputs": [
        {
          "output_type": "stream",
          "name": "stdout",
          "text": [
            "90년생 남자입니다.\n"
          ]
        }
      ]
    },
    {
      "cell_type": "code",
      "source": [
        "#21\n",
        "nums = [1, 2, 3, 4]\n",
        "nums.append(5)\n",
        "print(nums[0: ])\n",
        "nums.insert(2, 99)\n",
        "print(nums[0: ])"
      ],
      "metadata": {
        "colab": {
          "base_uri": "https://localhost:8080/"
        },
        "id": "eKLUnqQumOTh",
        "outputId": "a9e2a89a-57b6-4d16-dc51-d76014c7c7ac"
      },
      "execution_count": 121,
      "outputs": [
        {
          "output_type": "stream",
          "name": "stdout",
          "text": [
            "[1, 2, 3, 4, 5]\n",
            "[1, 2, 99, 3, 4, 5]\n"
          ]
        }
      ]
    },
    {
      "cell_type": "code",
      "source": [
        "#22\n",
        "list1 = [1, 2, 3, 4, 5]\n",
        "list2 = [10, 11]\n",
        "list1.extend(list2)\n",
        "print(list1[0 :])"
      ],
      "metadata": {
        "colab": {
          "base_uri": "https://localhost:8080/"
        },
        "id": "cQBcJ4cuqNTa",
        "outputId": "3ae8ab20-ba80-43b3-aa4d-6327dd795c31"
      },
      "execution_count": 125,
      "outputs": [
        {
          "output_type": "stream",
          "name": "stdout",
          "text": [
            "[1, 2, 3, 4, 5, 10, 11]\n"
          ]
        }
      ]
    },
    {
      "cell_type": "code",
      "source": [
        "#23\n",
        "score = [88, 95, 70, 100, 99]\n",
        "print(\"100의 위치: \", )"
      ],
      "metadata": {
        "id": "yjFPYzBMrGYb"
      },
      "execution_count": null,
      "outputs": []
    }
  ]
}