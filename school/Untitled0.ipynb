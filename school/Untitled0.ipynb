{
  "nbformat": 4,
  "nbformat_minor": 0,
  "metadata": {
    "colab": {
      "provenance": []
    },
    "kernelspec": {
      "name": "python3",
      "display_name": "Python 3"
    },
    "language_info": {
      "name": "python"
    }
  },
  "cells": [
    {
      "cell_type": "code",
      "execution_count": 3,
      "metadata": {
        "colab": {
          "base_uri": "https://localhost:8080/"
        },
        "id": "yz8Irgy72DJQ",
        "outputId": "d49f3b44-2152-45f7-dd3a-f04b7a49bce3"
      },
      "outputs": [
        {
          "output_type": "stream",
          "name": "stdout",
          "text": [
            "10! = 3628800\n"
          ]
        }
      ],
      "source": [
        "#13\n",
        "fact = 1\n",
        "for i in range(1, 11) :\n",
        "  fact = fact * i\n",
        "\n",
        "print(\"10! =\", fact)"
      ]
    },
    {
      "cell_type": "code",
      "source": [
        "five = 5\n",
        "for i in range(1, 4) :\n",
        "  for i in range(1, 8) :\n",
        "    five = five + 5\n",
        "    print(five, end=' ')\n",
        "  print()"
      ],
      "metadata": {
        "colab": {
          "base_uri": "https://localhost:8080/"
        },
        "id": "qsnl5qEe3HD-",
        "outputId": "8673f588-4468-44f7-a2ad-f8a112262dea"
      },
      "execution_count": 9,
      "outputs": [
        {
          "output_type": "stream",
          "name": "stdout",
          "text": [
            "10 15 20 25 30 35 40 \n",
            "45 50 55 60 65 70 75 \n",
            "80 85 90 95 100 105 110 \n"
          ]
        }
      ]
    },
    {
      "cell_type": "code",
      "source": [
        "num = int(input(\"정수를 입력하시오 : \"))\n",
        "for i in range(1, 1+num) :\n",
        "  if num % i == 0 :\n",
        "    print(i, end =' ')"
      ],
      "metadata": {
        "colab": {
          "base_uri": "https://localhost:8080/"
        },
        "id": "bLjIfOTk5Qcz",
        "outputId": "43de16c2-dc2f-4537-81db-c41d3fca4a26"
      },
      "execution_count": 16,
      "outputs": [
        {
          "output_type": "stream",
          "name": "stdout",
          "text": [
            "정수를 입력하시오 : 6\n",
            "1 2 3 6 "
          ]
        }
      ]
    },
    {
      "cell_type": "code",
      "source": [
        "a = 0 \n",
        "b = 1 \n",
        "for i in range(1, 21) :\n",
        "  print(a, end=' ')\n",
        "  n = a+b\n",
        "  a = b\n",
        "  b = n"
      ],
      "metadata": {
        "colab": {
          "base_uri": "https://localhost:8080/"
        },
        "id": "DB_EqFSq7J_t",
        "outputId": "47b17565-7e39-465d-dec3-09dd06b93458"
      },
      "execution_count": 17,
      "outputs": [
        {
          "output_type": "stream",
          "name": "stdout",
          "text": [
            "0 1 1 2 3 5 8 13 21 34 55 89 144 233 377 610 987 1597 2584 4181 "
          ]
        }
      ]
    },
    {
      "cell_type": "code",
      "source": [
        "for x in range(1, 41) :\n",
        "  if x % 10 == 0 :\n",
        "    print('+', end='')\n",
        "  else :\n",
        "    print('-', end='')"
      ],
      "metadata": {
        "colab": {
          "base_uri": "https://localhost:8080/"
        },
        "id": "yoNoHi3N9Zxy",
        "outputId": "03df5685-46e1-4951-91cb-2277e7834533"
      },
      "execution_count": 24,
      "outputs": [
        {
          "output_type": "stream",
          "name": "stdout",
          "text": [
            "---------+---------+---------+---------+"
          ]
        }
      ]
    },
    {
      "cell_type": "code",
      "source": [
        "x = 1\n",
        "while x <= 40 :\n",
        "  if x % 10 == 0 :\n",
        "    print('+', end='')\n",
        "  else :\n",
        "    print('-', end='')\n",
        "  x+=1"
      ],
      "metadata": {
        "colab": {
          "base_uri": "https://localhost:8080/"
        },
        "id": "dcaS09l6-HpC",
        "outputId": "73364d3e-6676-42d9-9582-1d36266f3d0e"
      },
      "execution_count": 28,
      "outputs": [
        {
          "output_type": "stream",
          "name": "stdout",
          "text": [
            "---------+---------+---------+---------+"
          ]
        }
      ]
    },
    {
      "cell_type": "code",
      "source": [
        "print(\"--------------------------------------\")\n",
        "print(\"센치(cm) 인치(inch) 피트(ft) 야드(yd)\")\n",
        "print(\"--------------------------------------\")\n",
        "for cm in range(10, 100+1, 10) :\n",
        "  inch = cm * 0.393701\n",
        "  ft = cm * 0.032808\n",
        "  yd = cm * 0.010936\n",
        "  print(\"%7d %8.1f %8.1f %8.1f\" %(cm, inch, ft, yd))\n",
        "print(\"--------------------------------------\")"
      ],
      "metadata": {
        "colab": {
          "base_uri": "https://localhost:8080/"
        },
        "id": "_WuPwM7rDB6r",
        "outputId": "467c2109-4203-4897-88a7-f77070101b0d"
      },
      "execution_count": 40,
      "outputs": [
        {
          "output_type": "stream",
          "name": "stdout",
          "text": [
            "--------------------------------------\n",
            "센치(cm) 인치(inch) 피트(ft) 야드(yd)\n",
            "--------------------------------------\n",
            "     10      3.9      0.3      0.1\n",
            "     20      7.9      0.7      0.2\n",
            "     30     11.8      1.0      0.3\n",
            "     40     15.7      1.3      0.4\n",
            "     50     19.7      1.6      0.5\n",
            "     60     23.6      2.0      0.7\n",
            "     70     27.6      2.3      0.8\n",
            "     80     31.5      2.6      0.9\n",
            "     90     35.4      3.0      1.0\n",
            "    100     39.4      3.3      1.1\n",
            "--------------------------------------\n"
          ]
        }
      ]
    },
    {
      "cell_type": "code",
      "source": [
        "for i in range(1, 1000+1) :\n",
        "  print(i, end = ' ')\n",
        "  if i == 10 :\n",
        "    break"
      ],
      "metadata": {
        "colab": {
          "base_uri": "https://localhost:8080/"
        },
        "id": "vVgaYUomE81U",
        "outputId": "99f0b63f-c2de-4d3e-c3c5-9a3e340a44e5"
      },
      "execution_count": 41,
      "outputs": [
        {
          "output_type": "stream",
          "name": "stdout",
          "text": [
            "1 2 3 4 5 6 7 8 9 10 "
          ]
        }
      ]
    },
    {
      "cell_type": "code",
      "source": [
        "score = [92, 86, 68, 120, 56, 72]\n",
        "for i in range(0, 5+1) :\n",
        "  if score[i] > 100 :\n",
        "    break\n",
        "  print(score[i])\n",
        "print(\"성적 처리 끝!\")"
      ],
      "metadata": {
        "colab": {
          "base_uri": "https://localhost:8080/"
        },
        "id": "VWnfs3ZzHzTS",
        "outputId": "904e9620-c291-4d06-e834-6faf9470a9d2"
      },
      "execution_count": 46,
      "outputs": [
        {
          "output_type": "stream",
          "name": "stdout",
          "text": [
            "92\n",
            "86\n",
            "68\n",
            "성적 처리 끝!\n"
          ]
        }
      ]
    },
    {
      "cell_type": "code",
      "source": [
        "score = [92, 86, 68, 120, 56, 72]\n",
        "for i in range(0, 5+1) :\n",
        "  if score[i] > 100 :\n",
        "    continue\n",
        "  print(score[i])\n",
        "print(\"성적 처리 끝!\")"
      ],
      "metadata": {
        "colab": {
          "base_uri": "https://localhost:8080/"
        },
        "id": "NuQRh9sIIf0a",
        "outputId": "68c1815b-77a5-46b6-f26c-6efec2ea53f1"
      },
      "execution_count": 47,
      "outputs": [
        {
          "output_type": "stream",
          "name": "stdout",
          "text": [
            "92\n",
            "86\n",
            "68\n",
            "56\n",
            "72\n",
            "성적 처리 끝!\n"
          ]
        }
      ]
    },
    {
      "cell_type": "code",
      "source": [
        "print(\"3 + 4 = ?\")\n",
        "\n",
        "while True :\n",
        "  a = int(input(\"정답을 입력하시오 : \"))\n",
        "  if a == 7 :\n",
        "    break\n",
        "print(\"참 잘했어요~\")"
      ],
      "metadata": {
        "colab": {
          "base_uri": "https://localhost:8080/"
        },
        "id": "I6oRn128JVY6",
        "outputId": "df4ae704-c439-4e4a-ddf2-cc4db287f2e3"
      },
      "execution_count": 48,
      "outputs": [
        {
          "output_type": "stream",
          "name": "stdout",
          "text": [
            "3 + 4 = ?\n",
            "정답을 입력하시오 : 5\n",
            "정답을 입력하시오 : 7\n",
            "참 잘했어요~\n"
          ]
        }
      ]
    },
    {
      "cell_type": "code",
      "source": [
        "while True :\n",
        "  light = input(\"신호등 색상 입력 : \")\n",
        "  if light == \"green\" :\n",
        "    break\n",
        "print(\"길을 건너세요\")"
      ],
      "metadata": {
        "colab": {
          "base_uri": "https://localhost:8080/"
        },
        "id": "GMvlPm1vJu8a",
        "outputId": "9951f3d5-dc6b-4d3a-e8ca-96ed3d2032ce"
      },
      "execution_count": 49,
      "outputs": [
        {
          "output_type": "stream",
          "name": "stdout",
          "text": [
            "신호등 색상 입력 : ㅇ\n",
            "신호등 색상 입력 : green\n",
            "길을 건너세요\n"
          ]
        }
      ]
    },
    {
      "cell_type": "code",
      "source": [
        "i = 1\n",
        "total = 0\n",
        "\n",
        "while True :\n",
        "  total += i\n",
        "  if total > 50 :\n",
        "    print(\"합이 50보다 커지는 수는 %d이고 합은 %d이다.\" % (i, total))\n",
        "    break\n",
        "  i+=1"
      ],
      "metadata": {
        "colab": {
          "base_uri": "https://localhost:8080/"
        },
        "id": "ueyCub0DKMNd",
        "outputId": "5c11c8af-569d-4418-914e-3867be08ac49"
      },
      "execution_count": 53,
      "outputs": [
        {
          "output_type": "stream",
          "name": "stdout",
          "text": [
            "합이 50보다 커지는 수는 10이고 합은 55이다.\n"
          ]
        }
      ]
    },
    {
      "cell_type": "code",
      "source": [
        "for dan in range(2, 10) :\n",
        "  print(dan, \"단\")\n",
        "  for hang in range(2, 10) :\n",
        "    print(dan, \"*\", hang, \"=\", dan * hang)"
      ],
      "metadata": {
        "id": "8h4dVc8YLO4y"
      },
      "execution_count": null,
      "outputs": []
    },
    {
      "cell_type": "code",
      "source": [
        "dan = 2\n",
        "while dan <= 9 :\n",
        "  hang = 1\n",
        "  print(dan, \"단\")\n",
        "  while hang <= 9 :\n",
        "    print(dan, \"*\", hang, \"=\", dan*hang)\n",
        "    hang+=1\n",
        "  dan += 1\n",
        "  print()"
      ],
      "metadata": {
        "id": "PtFCngrHPeB6"
      },
      "execution_count": null,
      "outputs": []
    },
    {
      "cell_type": "code",
      "source": [
        "for y in range(1, 6) :\n",
        "  for x in range(1, y+1) :\n",
        "    print('*', end='')\n",
        "  print()"
      ],
      "metadata": {
        "colab": {
          "base_uri": "https://localhost:8080/"
        },
        "id": "ha1eBOF-Q6hM",
        "outputId": "ce0fa7a4-1a87-43df-b0a4-946616b37756"
      },
      "execution_count": 60,
      "outputs": [
        {
          "output_type": "stream",
          "name": "stdout",
          "text": [
            "*\n",
            "**\n",
            "***\n",
            "****\n",
            "*****\n"
          ]
        }
      ]
    },
    {
      "cell_type": "code",
      "source": [
        "for i in range(7) :\n",
        "  for j in range(7) :\n",
        "    if (i==j) | (i+j == 6) :\n",
        "      print('*', end='')\n",
        "    else :\n",
        "      print(' ', end='')\n",
        "  print()"
      ],
      "metadata": {
        "colab": {
          "base_uri": "https://localhost:8080/"
        },
        "id": "eUtbxOJnSSx7",
        "outputId": "ca76534f-9bdf-442e-964d-efe2a5022023"
      },
      "execution_count": 63,
      "outputs": [
        {
          "output_type": "stream",
          "name": "stdout",
          "text": [
            "*     *\n",
            " *   * \n",
            "  * *  \n",
            "   *   \n",
            "  * *  \n",
            " *   * \n",
            "*     *\n"
          ]
        }
      ]
    },
    {
      "cell_type": "code",
      "source": [
        "cnt = 0\n",
        "n = int(input('수 입력 : '))\n",
        "\n",
        "for i in range(2, n+1) :\n",
        "  pn = 1\n",
        "  for j in  range(2, i) :\n",
        "    if i%j == 0 :\n",
        "      pn = 0\n",
        "  if pn == 1 :\n",
        "    print('{:>5}'.format(i), sep = '', end = ' ')\n",
        "    cnt += 1\n",
        "    if cnt % 5 ==0:\n",
        "      print()"
      ],
      "metadata": {
        "colab": {
          "base_uri": "https://localhost:8080/"
        },
        "id": "x12OJpEnT_kD",
        "outputId": "7e7b9399-7ec5-4c91-af1e-498eb5dbfbcd"
      },
      "execution_count": 73,
      "outputs": [
        {
          "output_type": "stream",
          "name": "stdout",
          "text": [
            "수 입력 : 50\n",
            "    2     3     5     7    11 \n",
            "   13    17    19    23    29 \n",
            "   31    37    41    43    47 \n"
          ]
        }
      ]
    }
  ]
}