{
  "nbformat": 4,
  "nbformat_minor": 0,
  "metadata": {
    "colab": {
      "provenance": []
    },
    "kernelspec": {
      "name": "python3",
      "display_name": "Python 3"
    },
    "language_info": {
      "name": "python"
    }
  },
  "cells": [
    {
      "cell_type": "markdown",
      "source": [
        "##page11"
      ],
      "metadata": {
        "id": "cVCg3oSYv6j7"
      }
    },
    {
      "cell_type": "code",
      "source": [
        "a = int(input(\"a입력: \"))\n",
        "b = int(input(\"b입력: \"))\n",
        "\n",
        "if a == 3 and b == 4 :\n",
        "    print(\"OK\")\n",
        "if a == 3 or b == 4 :\n",
        "    print(\"Okay\")"
      ],
      "metadata": {
        "colab": {
          "base_uri": "https://localhost:8080/"
        },
        "id": "8j7MVO-Sv9gM",
        "outputId": "ebb1ad16-02bd-4f4b-af31-7883520dfd13"
      },
      "execution_count": null,
      "outputs": [
        {
          "output_type": "stream",
          "name": "stdout",
          "text": [
            "a입력: 3\n",
            "b입력: 4\n",
            "OK\n",
            "Okay\n"
          ]
        }
      ]
    },
    {
      "cell_type": "code",
      "source": [
        "x = int(input(\"숫자입력: \"))  #18페이지\n",
        "\n",
        "if x > 10 and x % 2 == 0 :\n",
        "    print(\"10초과 짝수\")"
      ],
      "metadata": {
        "colab": {
          "base_uri": "https://localhost:8080/"
        },
        "id": "JqGAl7ezxBgT",
        "outputId": "ee6713c1-5844-4247-eded-728a8d19fab6"
      },
      "execution_count": null,
      "outputs": [
        {
          "output_type": "stream",
          "name": "stdout",
          "text": [
            "숫자입력: 18\n",
            "10초과 짝수\n"
          ]
        }
      ]
    },
    {
      "cell_type": "code",
      "source": [
        "x = int(input(\"필기 성적 입력: \"))\n",
        "y = int(input(\"실기 성적 입력: \"))\n",
        "\n",
        "if x >= 80 and y >= 80 :\n",
        "    print(\"합격\")\n",
        "else:\n",
        "    print(\"불합격\")"
      ],
      "metadata": {
        "colab": {
          "base_uri": "https://localhost:8080/"
        },
        "id": "3O7UBAHSx998",
        "outputId": "56410e42-8cb7-4181-bb13-1170fab9dcb3"
      },
      "execution_count": null,
      "outputs": [
        {
          "output_type": "stream",
          "name": "stdout",
          "text": [
            "필기 성적 입력: 50\n",
            "실기 성적 입력: 50\n",
            "불합격\n"
          ]
        }
      ]
    },
    {
      "cell_type": "code",
      "source": [
        "year = int(input(\"몇살 이세요? \"))\n",
        "\n",
        "if 0 <= year < 7 or 65 <= year :\n",
        "    print(\"입장료는 무료입니다\")\n",
        "else:\n",
        "    print(\"입장료는 3000원 입니다\")"
      ],
      "metadata": {
        "colab": {
          "base_uri": "https://localhost:8080/"
        },
        "id": "7d5LasU8y3V0",
        "outputId": "cd80d8ba-fca1-45ad-a10e-6549b1842ad5"
      },
      "execution_count": null,
      "outputs": [
        {
          "output_type": "stream",
          "name": "stdout",
          "text": [
            "몇살 이세요? 3\n",
            "입장료는 무료입니다\n"
          ]
        }
      ]
    },
    {
      "cell_type": "code",
      "source": [
        "year = int(input(\"나이: \"))\n",
        "hight = int(input(\"키: \"))\n",
        "\n",
        "if 10 <= year and 150 >= hight :\n",
        "    print(\"놀이기구를 탈 수 있다.\")\n",
        "else:\n",
        "    print(\"노링기구를 탈 수 없다.\")"
      ],
      "metadata": {
        "colab": {
          "base_uri": "https://localhost:8080/"
        },
        "id": "xAJA89Cw0UYK",
        "outputId": "fbbdce0b-ddb2-4136-f5dc-cb70ae7b397f"
      },
      "execution_count": null,
      "outputs": [
        {
          "output_type": "stream",
          "name": "stdout",
          "text": [
            "나이: 10\n",
            "키: 150\n",
            "놀이기구를 탈 수 있다.\n"
          ]
        }
      ]
    },
    {
      "cell_type": "code",
      "source": [
        "id = str(input(\"아이디를 입력하세요: \"))\n",
        "level = int(input(\"회원 레벨을 입력하세요: \"))\n",
        "\n",
        "if id == \"admin\" or level == 1 :\n",
        "    print(\"관리자 입니다.\")\n",
        "else:\n",
        "    print(\"관리자가 아닙니다.\")"
      ],
      "metadata": {
        "colab": {
          "base_uri": "https://localhost:8080/"
        },
        "id": "RT0nXQxf1Vz1",
        "outputId": "0ff4c0ce-c049-49ab-9197-f3f3d8ec23ef"
      },
      "execution_count": null,
      "outputs": [
        {
          "output_type": "stream",
          "name": "stdout",
          "text": [
            "아이디를 입력하세요: admin\n",
            "회원 레벨을 입력하세요: 3\n",
            "관리자 입니다.\n"
          ]
        }
      ]
    },
    {
      "cell_type": "code",
      "source": [
        "num = int(input(\"정수를 입력하세요: \"))\n",
        "\n",
        "if 1 <= num <=100 :\n",
        "    print(num, \"은(는) 1~100 사이에 있다.\")\n",
        "else:\n",
        "    print(num, \"은(는) 1~100 사이에 없다.\")"
      ],
      "metadata": {
        "colab": {
          "base_uri": "https://localhost:8080/"
        },
        "id": "ku7db0gj2OQi",
        "outputId": "821165a3-6807-47b6-9d9b-ca4a74246d94"
      },
      "execution_count": null,
      "outputs": [
        {
          "output_type": "stream",
          "name": "stdout",
          "text": [
            "정수를 입력하세요: 3\n",
            "3 은(는) 1~100 사이에 있다.\n"
          ]
        }
      ]
    },
    {
      "cell_type": "code",
      "source": [
        "month = 3\n",
        "\n",
        "if 3 <= month <= 5 :\n",
        "    print(\"현재는 봄입니다.\")\n",
        "elif 6 <= month <= 8 :\n",
        "    print(\"현재는 여름입니다.\")\n",
        "elif 9 <= month <= 11 :\n",
        "    print(\"현재는 가을입니다.\")\n",
        "else :\n",
        "    print(\"현재는 겨울입니다.\")"
      ],
      "metadata": {
        "colab": {
          "base_uri": "https://localhost:8080/"
        },
        "id": "-e6QAECu3Bm1",
        "outputId": "3c35798e-f9d2-40d0-8c7f-755ac6e81d8b"
      },
      "execution_count": null,
      "outputs": [
        {
          "output_type": "stream",
          "name": "stdout",
          "text": [
            "현재는 봄입니다.\n"
          ]
        }
      ]
    },
    {
      "cell_type": "markdown",
      "source": [
        "##page12"
      ],
      "metadata": {
        "id": "UFVxAUUK6Ges"
      }
    },
    {
      "cell_type": "code",
      "source": [
        "cost = int(input(\"구매 금액: \"))\n",
        "\n",
        "if cost < 20000 :\n",
        "    print(\"새벽 배송이 불가능 합니다.\")\n",
        "elif cost > 50000 :\n",
        "    print(\"무료 배송입니다.\")\n",
        "else:\n",
        "    print(\"배송비 2500원이 추가됩니다.\")"
      ],
      "metadata": {
        "colab": {
          "base_uri": "https://localhost:8080/"
        },
        "id": "UaHUpq2L4DF1",
        "outputId": "9390e1c2-a759-437e-a6df-ae03fbe9a3d1"
      },
      "execution_count": null,
      "outputs": [
        {
          "output_type": "stream",
          "name": "stdout",
          "text": [
            "구매 금액: 40000\n",
            "배송비 2500원이 추가됩니다.\n"
          ]
        }
      ]
    },
    {
      "cell_type": "code",
      "source": [
        "score = int(input(\"점수를 입력하세요: \"))\n",
        "\n",
        "if 90 <= score :\n",
        "    print(\"A등급입니다.\")\n",
        "elif 80 <= score :\n",
        "    print(\"B등급입니다.\")\n",
        "elif 70 <= score :\n",
        "    print(\"C등급입니다.\")\n",
        "else :\n",
        "    print(\"F등급입니다.\")"
      ],
      "metadata": {
        "colab": {
          "base_uri": "https://localhost:8080/"
        },
        "id": "5L04O1be7Qnh",
        "outputId": "aebaa73e-c27c-4d47-f760-cfcea19f1e64"
      },
      "execution_count": null,
      "outputs": [
        {
          "output_type": "stream",
          "name": "stdout",
          "text": [
            "점수를 입ㄹ겨하세요: 100\n",
            "A등급입니다.\n"
          ]
        }
      ]
    },
    {
      "cell_type": "code",
      "source": [
        "one = int(input(\"첫 번째 수: \"))\n",
        "two = int(input(\"두 번째 수: \"))\n",
        "three = int(input(\"세 번째 수: \"))\n",
        "temp = int\n",
        "\n",
        "if one <= two :\n",
        "    temp = two\n",
        "if one >= two :\n",
        "    temp = one\n",
        "if temp >= three :\n",
        "    print(\"가장 큰 수는\", temp, \"입니다.\")\n",
        "else :\n",
        "    print(\"가장 큰 수는\", three, \"입니다.\")"
      ],
      "metadata": {
        "colab": {
          "base_uri": "https://localhost:8080/"
        },
        "id": "OeaL90qg8VnR",
        "outputId": "4d940307-218b-48fa-abf8-58ed33944a92"
      },
      "execution_count": null,
      "outputs": [
        {
          "output_type": "stream",
          "name": "stdout",
          "text": [
            "첫 번째 수: 13\n",
            "두 번째 수: 22\n",
            "세 번째 수: 47\n",
            "가장 큰 수는 47 입니다.\n"
          ]
        }
      ]
    },
    {
      "cell_type": "code",
      "source": [
        "temper = int(input(\"온도를 입력하시오:\"))\n",
        "\n",
        "if temper < 0 :\n",
        "    print(\"물의 상태는 고체입니다.\")\n",
        "elif 0 <= temper < 100 :\n",
        "    print(\"물의 상태는 액체입니다.\")\n",
        "else :\n",
        "    print(\"물의 상태는 기체입니다.\")"
      ],
      "metadata": {
        "colab": {
          "base_uri": "https://localhost:8080/"
        },
        "id": "FkWvJXzw-R6q",
        "outputId": "0c8654ba-499b-4470-e8d3-416e61e8770c"
      },
      "execution_count": null,
      "outputs": [
        {
          "output_type": "stream",
          "name": "stdout",
          "text": [
            "온도를 입력하시오:100\n",
            "물의 상태는 기체입니다.\n"
          ]
        }
      ]
    },
    {
      "cell_type": "code",
      "source": [
        "eng = int(input(\"영어 시험 점수를 입력: \"))\n",
        "math = int(input(\"수학 시험 점수를 입력: \"))\n",
        "\n",
        "if eng >= 80 and math >= 80:\n",
        "    print(\"합격\")\n",
        "elif eng < 80 and math < 80 :\n",
        "    print(\"탈락\")\n",
        "else :\n",
        "    print(\"재시험 기회 제공\")"
      ],
      "metadata": {
        "colab": {
          "base_uri": "https://localhost:8080/"
        },
        "id": "27pglGti_Upc",
        "outputId": "c8378a94-bee8-4952-8841-ea20c7ff8d69"
      },
      "execution_count": null,
      "outputs": [
        {
          "output_type": "stream",
          "name": "stdout",
          "text": [
            "영어 시험 점수를 입력: 55\n",
            "수학 시험 점수를 입력: 55\n",
            "탈락\n"
          ]
        }
      ]
    },
    {
      "cell_type": "code",
      "source": [
        "print(\"1: 매우만족     2: 만족     3: 불만족\")\n",
        "poll = int(input(\"서비스가 어떠셨나요(예: 1 또는 2 또는 3): \"))\n",
        "cost = int(input(\"음식 값을 입력해 주세요(예: 8000): \"))\n",
        "\n",
        "if poll == 3 :\n",
        "    print(int(cost * (5 / 100)), \"원\")\n",
        "elif poll == 2 :\n",
        "    print(int(cost * 0.1), \"원\")\n",
        "else :\n",
        "    print(int(cost * (20 / 100)), \"원\")"
      ],
      "metadata": {
        "colab": {
          "base_uri": "https://localhost:8080/"
        },
        "id": "Pjid5d-FBF1s",
        "outputId": "ef3297d6-c793-4fdb-e7b3-18af0f3505c0"
      },
      "execution_count": null,
      "outputs": [
        {
          "output_type": "stream",
          "name": "stdout",
          "text": [
            "1: 매우만족     2: 만족     3: 불만족\n",
            "서비스가 어떠셨나요(예: 1 또는 2 또는 3): 2\n",
            "음식 값을 입력해 주세요(예: 8000): 9000\n",
            "900 원\n"
          ]
        }
      ]
    },
    {
      "cell_type": "code",
      "source": [],
      "metadata": {
        "id": "PBJvcw_mBLjI"
      },
      "execution_count": null,
      "outputs": []
    }
  ]
}