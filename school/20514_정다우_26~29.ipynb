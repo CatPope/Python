{
  "nbformat": 4,
  "nbformat_minor": 0,
  "metadata": {
    "colab": {
      "provenance": []
    },
    "kernelspec": {
      "name": "python3",
      "display_name": "Python 3"
    },
    "language_info": {
      "name": "python"
    }
  },
  "cells": [
    {
      "cell_type": "markdown",
      "source": [
        "##26page"
      ],
      "metadata": {
        "id": "FN3oJt5ZPGH2"
      }
    },
    {
      "cell_type": "code",
      "execution_count": null,
      "metadata": {
        "colab": {
          "base_uri": "https://localhost:8080/"
        },
        "id": "aEeMDCUtO41Q",
        "outputId": "45297225-537a-4259-cef9-68ae89d70d95"
      },
      "outputs": [
        {
          "output_type": "stream",
          "name": "stdout",
          "text": [
            "성적 입력: 59\n",
            "성적 입력: 66\n",
            "성적 입력: 76\n",
            "성적 입력: 82\n",
            "성적 입력: 79\n",
            "[59, 66, 76, 82, 79]\n",
            "총점은 79 이고, 평균은 15.8 입니다.\n"
          ]
        }
      ],
      "source": [
        "#36\n",
        "scores = []\n",
        "for i in range(5) :\n",
        "  score = int(input(\"성적 입력: \"))\n",
        "  scores.append(score)\n",
        "  sum += score\n",
        "avg = sum / 5.0\n",
        "\n",
        "print(scores)\n",
        "print(\"총점은\", sum, \"이고, 평균은\", avg, \"입니다.\")"
      ]
    },
    {
      "cell_type": "code",
      "source": [
        "#37\n",
        "numbers = [7, 9, 15, 18, 30, -3, 7, 12, -16, -12]\n",
        "sum = 0\n",
        "i = 0\n",
        "print(\"짝수 번째 요소 :\", end='')\n",
        "\n",
        "while i < len(numbers) :\n",
        "  if i%2 == 0:\n",
        "    numbers.pop(i)\n",
        "  i+=1\n",
        "i = 0;\n",
        "for i in range(len(numbers)):\n",
        "  print(numbers[i], end = ' ')\n",
        "print(\"\\n합계 :\", sum)"
      ],
      "metadata": {
        "colab": {
          "base_uri": "https://localhost:8080/"
        },
        "id": "zZVwtDKCTHGD",
        "outputId": "0db725d2-39d2-43e8-bfb4-2b6fc54944e1"
      },
      "execution_count": null,
      "outputs": [
        {
          "output_type": "stream",
          "name": "stdout",
          "text": [
            "짝수 번째 요소 :9 15 30 -3 12 -16 \n",
            "합계 : 0\n"
          ]
        }
      ]
    },
    {
      "cell_type": "code",
      "source": [
        "#38\n",
        "from types import GenericAlias\n",
        "s = [64, 89, 100, 85, 77, 58, 79, 67, 96, 87, 87, 36, 82, 98, 84, 76, 63, 69, 53, 22]\n",
        "\n",
        "soo = 0\n",
        "woo = 0\n",
        "mi = 0\n",
        "yang = 0\n",
        "ga = 0\n",
        "\n",
        "i = 0\n",
        "while i < len(s):\n",
        "  if s[i] >= 90:\n",
        "    soo += 1\n",
        "  elif s[i] >= 80:\n",
        "    woo += 1\n",
        "  elif s[i] >= 80:\n",
        "    mi += 1\n",
        "  elif s[i] >= 80:\n",
        "    yang += 1\n",
        "  else:\n",
        "    ga += 1\n",
        "  i+=1\n",
        "print(\"수 :\", soo)\n",
        "print(\"우 :\", woo)\n",
        "print(\"미 :\", mi)\n",
        "print(\"양 :\", yang)\n",
        "print(\"가 :\", ga)"
      ],
      "metadata": {
        "colab": {
          "base_uri": "https://localhost:8080/"
        },
        "id": "zj8k7OkadJIV",
        "outputId": "34e6e280-9e40-4b59-b312-3f13da149a94"
      },
      "execution_count": null,
      "outputs": [
        {
          "output_type": "stream",
          "name": "stdout",
          "text": [
            "수 : 3\n",
            "우 : 6\n",
            "미 : 0\n",
            "양 : 0\n",
            "가 : 11\n"
          ]
        }
      ]
    },
    {
      "cell_type": "code",
      "source": [
        "\n",
        "#39numbers = [[10, 20, 30], [40, 50, 60]]\n",
        "print(numbers[0])\n",
        "print(numbers[1])\n",
        "\n",
        "for i in range(2):\n",
        "  for j in range(3):\n",
        "   print(numbers[i][j], end=\" \")\n",
        "  print()"
      ],
      "metadata": {
        "colab": {
          "base_uri": "https://localhost:8080/"
        },
        "id": "t3SIFqhogJb6",
        "outputId": "339e19f9-d9ef-4d79-eaf0-4f8f80e9f836"
      },
      "execution_count": null,
      "outputs": [
        {
          "output_type": "stream",
          "name": "stdout",
          "text": [
            "[10, 20, 30]\n",
            "[40, 50, 60]\n",
            "10 20 30 \n",
            "40 50 60 \n"
          ]
        }
      ]
    },
    {
      "cell_type": "code",
      "source": [
        "#40\n",
        "numbers = [[10, 20, 30], [40, 50, 60, 70, 80, 90]]\n",
        "\n",
        "for i in range(len(numbers)):\n",
        "  for j in range(len(numbers[i])):\n",
        "   print(numbers[i][j], end=\" \")\n",
        "  print()"
      ],
      "metadata": {
        "colab": {
          "base_uri": "https://localhost:8080/"
        },
        "id": "LbgC7hxNjLQu",
        "outputId": "aef22e29-b37e-4ee6-fc85-7ba4888ad1e0"
      },
      "execution_count": null,
      "outputs": [
        {
          "output_type": "stream",
          "name": "stdout",
          "text": [
            "10 20 30 \n",
            "40 50 60 70 80 90 \n"
          ]
        }
      ]
    },
    {
      "cell_type": "code",
      "source": [
        "#41\n",
        "numbers = [[10, 20, 30], [40, 50, 60, 70, 80]]\n",
        "\n",
        "for i in range(len(numbers)):\n",
        "  for j in range(len(numbers[i])):\n",
        "   print(numbers[i][j], end=\" \")\n",
        "  print()"
      ],
      "metadata": {
        "colab": {
          "base_uri": "https://localhost:8080/"
        },
        "id": "ZYMoGRn5ntrU",
        "outputId": "85501774-5fb9-4b79-b4ec-d0e715c99657"
      },
      "execution_count": null,
      "outputs": [
        {
          "output_type": "stream",
          "name": "stdout",
          "text": [
            "10 20 30 \n",
            "40 50 60 70 80 \n"
          ]
        }
      ]
    },
    {
      "cell_type": "code",
      "source": [
        "#42\n",
        "data = [[10, 20], [40, 50], [60, 70], [80, 90]]\n",
        "\n",
        "for i in range(len(data)):\n",
        "  for j in range(len(data[i])):\n",
        "   print('data[%d][%d] = %s' %(i, j, data[i][j]))"
      ],
      "metadata": {
        "colab": {
          "base_uri": "https://localhost:8080/"
        },
        "id": "fcwreagXlbXc",
        "outputId": "c9422ebf-faf4-4688-c8f3-ff99f8c74785"
      },
      "execution_count": null,
      "outputs": [
        {
          "output_type": "stream",
          "name": "stdout",
          "text": [
            "data[0][0] = 10\n",
            "data[0][1] = 20\n",
            "data[1][0] = 40\n",
            "data[1][1] = 50\n",
            "data[2][0] = 60\n",
            "data[2][1] = 70\n",
            "data[3][0] = 80\n",
            "data[3][1] = 90\n"
          ]
        }
      ]
    },
    {
      "cell_type": "code",
      "source": [
        "#43\n",
        "strings = [[\"원두커피\", \"라떼\", \"콜라\"], [\"우동\", \"국수\", \"피자\", \"파스타\"]]\n",
        "print(len(strings))\n",
        "print(len(strings[0]))\n",
        "print(len(strings[1]))\n",
        "\n",
        "for i in range(len(strings)):\n",
        "  for j in range(len(strings[i])):\n",
        "   print('%s' %strings[i][j], end=\" \")\n",
        "  print()"
      ],
      "metadata": {
        "colab": {
          "base_uri": "https://localhost:8080/"
        },
        "id": "kfMbwAMYjT_L",
        "outputId": "3d1c4a17-c984-4b78-9832-89fdc489f52b"
      },
      "execution_count": null,
      "outputs": [
        {
          "output_type": "stream",
          "name": "stdout",
          "text": [
            "2\n",
            "3\n",
            "4\n",
            "원두커피 라떼 콜라 \n",
            "우동 국수 피자 파스타 \n"
          ]
        }
      ]
    },
    {
      "cell_type": "code",
      "source": [
        "#44\n",
        "numbers = [[10, 20, 30], [40, 50], [60, 70, 80, 90]]\n",
        "\n",
        "print(numbers)\n",
        "for i in range(len(numbers)):\n",
        "   print(numbers[i][0])"
      ],
      "metadata": {
        "colab": {
          "base_uri": "https://localhost:8080/"
        },
        "id": "eIieh9jnlOXp",
        "outputId": "e57a777a-cde1-4fba-a5e2-2e5978ecd1a9"
      },
      "execution_count": null,
      "outputs": [
        {
          "output_type": "stream",
          "name": "stdout",
          "text": [
            "[[10, 20, 30], [40, 50], [60, 70, 80, 90]]\n",
            "10\n",
            "40\n",
            "60\n"
          ]
        }
      ]
    },
    {
      "cell_type": "code",
      "source": [
        "#45\n",
        "score = [\n",
        "    [88, 76, 92, 98],\n",
        "    [65, 70, 58, 82],\n",
        "    [82, 80, 70, 88]\n",
        "]\n",
        "\n",
        "total = 0\n",
        "totalsub = 0\n",
        "for stu in score:\n",
        "  sum += 0\n",
        "  for s in stu:\n",
        "    sum += s\n",
        "  subjects = len(stu)\n",
        "  print(\"총점 : \", sum, \"평균 :\", sum/subjects)\n",
        "  total += sum\n",
        "  totalsub += subjects\n",
        "print(\"전체평균: \",total/totalsub)"
      ],
      "metadata": {
        "colab": {
          "base_uri": "https://localhost:8080/"
        },
        "id": "AU14A-aBpdq3",
        "outputId": "21c00185-e7de-4676-d29f-5ea76cca661f"
      },
      "execution_count": null,
      "outputs": [
        {
          "output_type": "stream",
          "name": "stdout",
          "text": [
            "총점 :  1303 평균 : 325.75\n",
            "총점 :  1578 평균 : 394.5\n",
            "총점 :  1898 평균 : 474.5\n",
            "전체평균:  398.25\n"
          ]
        }
      ]
    },
    {
      "cell_type": "code",
      "source": [
        "#46\n",
        "seats = [[0, 0, 0, 0, 0, 0, 0, 0, 0, 0],\\\n",
        "         [0, 0, 0, 0, 0, 0, 0, 0, 0, 0],\\\n",
        "         [0, 0, 0, 0, 0, 0, 0, 0, 0, 0],\\\n",
        "         [1, 1, 1, 0, 0, 0, 0, 0, 1, 0],\\\n",
        "         [0, 0, 0, 0, 0, 1, 0, 0, 0, 0],\\\n",
        "         [0, 1, 0, 0, 0, 1, 0, 1, 0, 0],\\\n",
        "         [0, 0, 0, 0, 0, 0, 1, 0, 0, 0],\\\n",
        "         [1, 0, 1, 0, 0, 0, 0, 0, 0, 1],\n",
        "        ]\n",
        "\n",
        "for i in range(len(seats)):\n",
        "  for j in range(len(seats[i])):\n",
        "    if seats[i][j] == 0:\n",
        "      print('%3s' % '□', end = '')\n",
        "    else:\n",
        "      print('%3s' % '■', end = '')\n",
        "  print()\n",
        "print('\\n※  예약 가능: ■, 예약 불가: □')"
      ],
      "metadata": {
        "colab": {
          "base_uri": "https://localhost:8080/"
        },
        "id": "n54-fO68sCGZ",
        "outputId": "934ffe5e-947b-4b49-c993-82a13388945b"
      },
      "execution_count": null,
      "outputs": [
        {
          "output_type": "stream",
          "name": "stdout",
          "text": [
            "  □  □  □  □  □  □  □  □  □  □\n",
            "  □  □  □  □  □  □  □  □  □  □\n",
            "  □  □  □  □  □  □  □  □  □  □\n",
            "  ■  ■  ■  □  □  □  □  □  ■  □\n",
            "  □  □  □  □  □  ■  □  □  □  □\n",
            "  □  ■  □  □  □  ■  □  ■  □  □\n",
            "  □  □  □  □  □  □  ■  □  □  □\n",
            "  ■  □  ■  □  □  □  □  □  □  ■\n",
            "\n",
            "※  예약 가능: ■, 예약 불가: □\n"
          ]
        }
      ]
    }
  ]
}