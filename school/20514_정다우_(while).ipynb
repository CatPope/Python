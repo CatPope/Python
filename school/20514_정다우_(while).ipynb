{
  "nbformat": 4,
  "nbformat_minor": 0,
  "metadata": {
    "colab": {
      "provenance": []
    },
    "kernelspec": {
      "name": "python3",
      "display_name": "Python 3"
    },
    "language_info": {
      "name": "python"
    }
  },
  "cells": [
    {
      "cell_type": "code",
      "execution_count": null,
      "metadata": {
        "colab": {
          "base_uri": "https://localhost:8080/"
        },
        "id": "mjRlErE1KIYT",
        "outputId": "9e5d38fc-ebc9-485f-db6e-31dcec57f7d1"
      },
      "outputs": [
        {
          "output_type": "stream",
          "name": "stdout",
          "text": [
            "안녕하세요\n",
            "안녕하세요\n",
            "안녕하세요\n"
          ]
        }
      ],
      "source": [
        "#16p. ex) 1\n",
        "\n",
        "count = 0\n",
        "\n",
        "while count < 3 :\n",
        "    print(\"안녕하세요\")\n",
        "    count+=1"
      ]
    },
    {
      "cell_type": "code",
      "source": [
        "#16p. ex) 2\n",
        "\n",
        "student = 1\n",
        "\n",
        "while student <= 3 :\n",
        "  print(student, \"번 학생의 성적을 처리한다.\")\n",
        "  student+=1"
      ],
      "metadata": {
        "colab": {
          "base_uri": "https://localhost:8080/"
        },
        "id": "PxpXCjGiKtd2",
        "outputId": "471f83ff-b550-45b0-810f-e815f8b28348"
      },
      "execution_count": null,
      "outputs": [
        {
          "output_type": "stream",
          "name": "stdout",
          "text": [
            "1 번 학생의 성적을 처리한다.\n",
            "2 번 학생의 성적을 처리한다.\n",
            "3 번 학생의 성적을 처리한다.\n"
          ]
        }
      ]
    },
    {
      "cell_type": "code",
      "source": [
        "#16p. ex) 3\n",
        "\n",
        "student = 1\n",
        "\n",
        "while student <= 100 :\n",
        "  print(student, \"번 학생의 성적을 처리한다.\")\n",
        "  student+=1"
      ],
      "metadata": {
        "id": "2qkNvhDcLhNn"
      },
      "execution_count": null,
      "outputs": []
    },
    {
      "cell_type": "code",
      "source": [
        "#16p. ex) 4\n",
        "\n",
        "dan = int(input(\"원하는 단은? \"))\n",
        "i = 1\n",
        "\n",
        "while i <= 9:\n",
        "  print(dan, \"*\", i, \"=\", dan*i)\n",
        "  i+=1"
      ],
      "metadata": {
        "colab": {
          "base_uri": "https://localhost:8080/"
        },
        "id": "UhwokOYSMcOu",
        "outputId": "ba463646-0882-4ee6-fe6f-a9b7dcce0045"
      },
      "execution_count": null,
      "outputs": [
        {
          "output_type": "stream",
          "name": "stdout",
          "text": [
            "원하는 단은? 3\n",
            "3 * 1 = 3\n",
            "3 * 2 = 6\n",
            "3 * 3 = 9\n",
            "3 * 4 = 12\n",
            "3 * 5 = 15\n",
            "3 * 6 = 18\n",
            "3 * 7 = 21\n",
            "3 * 8 = 24\n",
            "3 * 9 = 27\n"
          ]
        }
      ]
    },
    {
      "cell_type": "code",
      "source": [
        "#16p. ex) 5-1\n",
        "\n",
        "sum = 0\n",
        "i = 1\n",
        "\n",
        "while i <= 10:\n",
        "  sum+=i\n",
        "  print(\"i의 값:\", i, \"=> 합계: \", sum)\n",
        "  i+=1"
      ],
      "metadata": {
        "colab": {
          "base_uri": "https://localhost:8080/"
        },
        "id": "Vpy25tBVNTFV",
        "outputId": "3561a8e0-9d44-4d3f-ff31-680bb739b82e"
      },
      "execution_count": null,
      "outputs": [
        {
          "output_type": "stream",
          "name": "stdout",
          "text": [
            "i의 값: 1 => 합계:  1\n",
            "i의 값: 2 => 합계:  3\n",
            "i의 값: 3 => 합계:  6\n",
            "i의 값: 4 => 합계:  10\n",
            "i의 값: 5 => 합계:  15\n",
            "i의 값: 6 => 합계:  21\n",
            "i의 값: 7 => 합계:  28\n",
            "i의 값: 8 => 합계:  36\n",
            "i의 값: 9 => 합계:  45\n",
            "i의 값: 10 => 합계:  55\n"
          ]
        }
      ]
    },
    {
      "cell_type": "code",
      "source": [
        "#16p. ex) 5-2\n",
        "\n",
        "sum = 0\n",
        "i = 10\n",
        "\n",
        "while i <= 20:\n",
        "  sum+=i\n",
        "  print(\"i의 값:\", i, \"=> 합계: \", sum)\n",
        "  i+=1"
      ],
      "metadata": {
        "colab": {
          "base_uri": "https://localhost:8080/"
        },
        "id": "IJ7EQS01N33O",
        "outputId": "b0883524-befe-49fe-940e-052f93c25b00"
      },
      "execution_count": null,
      "outputs": [
        {
          "output_type": "stream",
          "name": "stdout",
          "text": [
            "i의 값: 10 => 합계:  10\n",
            "i의 값: 11 => 합계:  21\n",
            "i의 값: 12 => 합계:  33\n",
            "i의 값: 13 => 합계:  46\n",
            "i의 값: 14 => 합계:  60\n",
            "i의 값: 15 => 합계:  75\n",
            "i의 값: 16 => 합계:  91\n",
            "i의 값: 17 => 합계:  108\n",
            "i의 값: 18 => 합계:  126\n",
            "i의 값: 19 => 합계:  145\n",
            "i의 값: 20 => 합계:  165\n"
          ]
        }
      ]
    },
    {
      "cell_type": "code",
      "source": [
        "#16p. ex) 6\n",
        "\n",
        "num = 151\n",
        "sum = 0\n",
        "\n",
        "while num <= 300:\n",
        "  sum+=num\n",
        "  num+=2\n",
        "\n",
        "print(\"sum =\", sum)"
      ],
      "metadata": {
        "colab": {
          "base_uri": "https://localhost:8080/"
        },
        "id": "wGmALUHeOM4u",
        "outputId": "cf5bdf14-67f1-4653-b41f-eca25de02ec7"
      },
      "execution_count": null,
      "outputs": [
        {
          "output_type": "stream",
          "name": "stdout",
          "text": [
            "sum = 16875\n"
          ]
        }
      ]
    },
    {
      "cell_type": "code",
      "source": [
        "#16p. ex) 6\n",
        "\n",
        "print(\"-\" * 15)\n",
        "print(\"  섭씨  화씨\")\n",
        "print(\"-\" *15)\n",
        "\n",
        "c = -5     #섭씨온도\n",
        "\n",
        "while c <= 5 :\n",
        "  f = c * 9.0 / 5.0 +32.0     #화씨온도\n",
        "  print(\"%5d  %5.1f\" %(c, f))\n",
        "  c += 1\n",
        "print(\"-\" *15)"
      ],
      "metadata": {
        "colab": {
          "base_uri": "https://localhost:8080/"
        },
        "id": "mv5ACeyWOxzO",
        "outputId": "747f5958-0ffb-496d-e63b-416f7f839885"
      },
      "execution_count": null,
      "outputs": [
        {
          "output_type": "stream",
          "name": "stdout",
          "text": [
            "---------------\n",
            "  섭씨  화씨\n",
            "---------------\n",
            "   -5   23.0\n",
            "   -4   24.8\n",
            "   -3   26.6\n",
            "   -2   28.4\n",
            "   -1   30.2\n",
            "    0   32.0\n",
            "    1   33.8\n",
            "    2   35.6\n",
            "    3   37.4\n",
            "    4   39.2\n",
            "    5   41.0\n",
            "---------------\n"
          ]
        }
      ]
    },
    {
      "cell_type": "code",
      "source": [
        "fac = 10\n",
        "mult = 1\n",
        "\n",
        "while fac > 0 :\n",
        "  mult *= fac\n",
        "  fac -= 1\n",
        "\n",
        "print(\"10! =\", mult)"
      ],
      "metadata": {
        "colab": {
          "base_uri": "https://localhost:8080/"
        },
        "id": "EfXR9xNoQFe-",
        "outputId": "0ea15d60-bcbb-4a9e-c069-36e3ccf71c5e"
      },
      "execution_count": null,
      "outputs": [
        {
          "output_type": "stream",
          "name": "stdout",
          "text": [
            "10! = 3628800\n"
          ]
        }
      ]
    }
  ]
}