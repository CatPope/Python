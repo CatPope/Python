{
  "nbformat": 4,
  "nbformat_minor": 0,
  "metadata": {
    "colab": {
      "provenance": [],
      "collapsed_sections": [
        "8KeoptMMyxJz",
        "HR7dn84wyrVb"
      ]
    },
    "kernelspec": {
      "name": "python3",
      "display_name": "Python 3"
    },
    "language_info": {
      "name": "python"
    }
  },
  "cells": [
    {
      "cell_type": "markdown",
      "source": [
        "##31page"
      ],
      "metadata": {
        "id": "8KeoptMMyxJz"
      }
    },
    {
      "cell_type": "code",
      "execution_count": 1,
      "metadata": {
        "colab": {
          "base_uri": "https://localhost:8080/"
        },
        "id": "EsR0cJz3R9ET",
        "outputId": "112883a7-7904-414b-bca7-b6a3274714f3"
      },
      "outputs": [
        {
          "output_type": "stream",
          "name": "stdout",
          "text": [
            "p\n",
            "n\n"
          ]
        }
      ],
      "source": [
        "#1\n",
        "s = \"python\"\n",
        "print(s[0])\n",
        "print(s[-1])"
      ]
    },
    {
      "cell_type": "code",
      "source": [
        "#2\n",
        "# ps = \"python\"\n",
        "# print(s[10])"
      ],
      "metadata": {
        "id": "vJCdEqIbSuJ4"
      },
      "execution_count": 67,
      "outputs": []
    },
    {
      "cell_type": "code",
      "source": [
        "#3\n",
        "s1 = input(\"첫번 째 문자열: \")\n",
        "s2 = input(\"두번 째 문자열: \")\n",
        "s3 = input(\"세번 째 문자열: \")\n",
        "\n",
        "if s1[-1]==s2[0] and s2[-1]==s3[0]:\n",
        "  print(\"good\")\n",
        "else:\n",
        "  print(\"bed\")"
      ],
      "metadata": {
        "colab": {
          "base_uri": "https://localhost:8080/"
        },
        "id": "W588ieWxS5SL",
        "outputId": "bcd12ae6-340e-42d2-eb58-8895c4141cf8"
      },
      "execution_count": 6,
      "outputs": [
        {
          "output_type": "stream",
          "name": "stdout",
          "text": [
            "첫번 째 문자열: asf\n",
            "두번 째 문자열: fsdaf\n",
            "세번 째 문자열: sds\n",
            "bed\n"
          ]
        }
      ]
    },
    {
      "cell_type": "code",
      "source": [
        "#4\n",
        "s = \"python\"\n",
        "for i in range(6):\n",
        "  print(s[i], end=',')"
      ],
      "metadata": {
        "colab": {
          "base_uri": "https://localhost:8080/"
        },
        "id": "s5FZdmwPUuOn",
        "outputId": "81035fcf-c6ec-4bc5-f241-92b8ef0c7145"
      },
      "execution_count": 8,
      "outputs": [
        {
          "output_type": "stream",
          "name": "stdout",
          "text": [
            "p,y,t,h,o,n,"
          ]
        }
      ]
    },
    {
      "cell_type": "code",
      "source": [
        "#5\n",
        "number = input('하이븐(-)을 포함한 휴대폰 번호를 입력하세요:')\n",
        "\n",
        "for i in range(13):\n",
        "  if number[i]!='-' :\n",
        "    print(number[i], end='')"
      ],
      "metadata": {
        "colab": {
          "base_uri": "https://localhost:8080/"
        },
        "id": "FUkkd3AbVNrZ",
        "outputId": "676a1d7d-41cf-4a83-a429-9b13b15ee09c"
      },
      "execution_count": 12,
      "outputs": [
        {
          "output_type": "stream",
          "name": "stdout",
          "text": [
            "하이븐(-)을 포함한 휴대폰 번호를 입력하세요:010-5714-9509\n",
            "01057149509"
          ]
        }
      ]
    },
    {
      "cell_type": "code",
      "source": [
        "#6\n",
        "s = \"python\"\n",
        "print(len(s))\n",
        "n = \"여섯글자이다\"\n",
        "print(len(n))"
      ],
      "metadata": {
        "colab": {
          "base_uri": "https://localhost:8080/"
        },
        "id": "GuGo2EMNWwXv",
        "outputId": "a359498d-eb92-42d1-8741-cca8e5110f98"
      },
      "execution_count": 14,
      "outputs": [
        {
          "output_type": "stream",
          "name": "stdout",
          "text": [
            "6\n",
            "6\n"
          ]
        }
      ]
    },
    {
      "cell_type": "code",
      "source": [
        "#7\n",
        "sentence = input(\"문자열 입력:\")\n",
        "for i in range(len(sentence)):\n",
        "  if sentence[i] == 't':\n",
        "    print(i+1)"
      ],
      "metadata": {
        "colab": {
          "base_uri": "https://localhost:8080/"
        },
        "id": "ose5hi3XYAbh",
        "outputId": "15925232-b90f-413a-d25f-f228c5603dec"
      },
      "execution_count": 17,
      "outputs": [
        {
          "output_type": "stream",
          "name": "stdout",
          "text": [
            "문자열 입력:test\n",
            "1\n",
            "4\n"
          ]
        }
      ]
    },
    {
      "cell_type": "code",
      "source": [
        "#8\n",
        "sentence = input(\"문장을 입력해 주세요:\")\n",
        "i=len(sentence)\n",
        "while i>0:\n",
        "  print(sentence[i-1], end='')\n",
        "  i-=1"
      ],
      "metadata": {
        "colab": {
          "base_uri": "https://localhost:8080/"
        },
        "id": "h2g6QN3BY61N",
        "outputId": "e74b116a-549e-4cf8-c388-5b1e09d57a8d"
      },
      "execution_count": 24,
      "outputs": [
        {
          "output_type": "stream",
          "name": "stdout",
          "text": [
            "문장을 입력해 주세요:Enjoy everyone!\n",
            "!enoyreve yojnE"
          ]
        }
      ]
    },
    {
      "cell_type": "markdown",
      "source": [
        "##32page"
      ],
      "metadata": {
        "id": "HR7dn84wyrVb"
      }
    },
    {
      "cell_type": "code",
      "source": [
        "#9\n",
        "data = input(\"문자열 입력:\")\n",
        "for i in range(len(data)-1):\n",
        "  print(data[i], data[i+1], sep='')"
      ],
      "metadata": {
        "colab": {
          "base_uri": "https://localhost:8080/"
        },
        "id": "kS1TrNJIaH4u",
        "outputId": "1f2c2286-83ad-404e-bc87-9b4526c1141e"
      },
      "execution_count": 27,
      "outputs": [
        {
          "output_type": "stream",
          "name": "stdout",
          "text": [
            "문자열 입력:pyton\n",
            "py\n",
            "yt\n",
            "to\n",
            "on\n"
          ]
        }
      ]
    },
    {
      "cell_type": "code",
      "source": [
        "#10\n",
        "s = \"python\"\n",
        "print(s[2:5])\n",
        "print(s[3:])\n",
        "print(s[:4])\n",
        "print(s[2:-2])\n",
        "print(s[-2:])"
      ],
      "metadata": {
        "colab": {
          "base_uri": "https://localhost:8080/"
        },
        "id": "n5PbtwEJdexB",
        "outputId": "37ee3100-5971-4c49-a402-0e906e552e6e"
      },
      "execution_count": 29,
      "outputs": [
        {
          "output_type": "stream",
          "name": "stdout",
          "text": [
            "tho\n",
            "hon\n",
            "pyth\n",
            "th\n",
            "on\n"
          ]
        }
      ]
    },
    {
      "cell_type": "code",
      "source": [
        "#11\n",
        "s = \"차종: 코란도C, 제조사: 쌍용, 배기량: 1988\"\n",
        "print(s[15:17])"
      ],
      "metadata": {
        "colab": {
          "base_uri": "https://localhost:8080/"
        },
        "id": "FipBVAy8d1uH",
        "outputId": "5c15e61c-fade-48cd-e4f5-043717221e79"
      },
      "execution_count": 33,
      "outputs": [
        {
          "output_type": "stream",
          "name": "stdout",
          "text": [
            "쌍용\n"
          ]
        }
      ]
    },
    {
      "cell_type": "code",
      "source": [
        "#12\n",
        "file = \"20210505-104830.jpg\"\n",
        "print(\"촬영 날짜:\" + file[4:6] + \"월\" + file[6:8] + \"일\")\n",
        "print(\"촬영 시간:\" + file[9:11] + \"시\" + file[11:13] + \"분\")\n",
        "print(\"확장자:\" + file[-3:])"
      ],
      "metadata": {
        "colab": {
          "base_uri": "https://localhost:8080/"
        },
        "id": "iVu6b7A8e5eh",
        "outputId": "bd055db2-b1e3-4cff-bfca-972e78fbdeb8"
      },
      "execution_count": 37,
      "outputs": [
        {
          "output_type": "stream",
          "name": "stdout",
          "text": [
            "촬영 날짜:05월05일\n",
            "촬영 시간:10시48분\n",
            "확장자:jpg\n"
          ]
        }
      ]
    },
    {
      "cell_type": "code",
      "source": [
        "#13\n",
        "yoil = \"월화수목금토일\"\n",
        "print(yoil[::2])\n",
        "print(yoil[::-1])"
      ],
      "metadata": {
        "colab": {
          "base_uri": "https://localhost:8080/"
        },
        "id": "e_dfXEISgmPq",
        "outputId": "57c0e6b6-fdcf-4ba5-daf7-051ae5659d3f"
      },
      "execution_count": 39,
      "outputs": [
        {
          "output_type": "stream",
          "name": "stdout",
          "text": [
            "월수금일\n",
            "일토금목수화월\n"
          ]
        }
      ]
    },
    {
      "cell_type": "code",
      "source": [
        "#14\n",
        "jumin = \"901231-1914983\"\n",
        "year = jumin[:2]\n",
        "if jumin[7] == '1' or jumin[7] == '3':\n",
        "  sung = '남자'\n",
        "else :\n",
        "  sung = '여자'\n",
        "print(year + \"년생\" + sung + \"입니다.\")"
      ],
      "metadata": {
        "colab": {
          "base_uri": "https://localhost:8080/"
        },
        "id": "U6H_KrWBg3BD",
        "outputId": "64e57ed5-cfcf-48d7-9003-898a83981163"
      },
      "execution_count": 45,
      "outputs": [
        {
          "output_type": "stream",
          "name": "stdout",
          "text": [
            "90년생남자입니다.\n"
          ]
        }
      ]
    },
    {
      "cell_type": "code",
      "source": [
        "#15\n",
        "a = \"10 20 30 40 50\"\n",
        "print(a.split())\n",
        "b = \"나는 서울로봇고 2학년이야.\"\n",
        "print(b.split())"
      ],
      "metadata": {
        "colab": {
          "base_uri": "https://localhost:8080/"
        },
        "id": "EpM0O80kimE0",
        "outputId": "735f08c9-9b7d-4951-9d44-90147b49747b"
      },
      "execution_count": 49,
      "outputs": [
        {
          "output_type": "stream",
          "name": "stdout",
          "text": [
            "['10', '20', '30', '40', '50']\n",
            "['나는', '서울로봇고', '2학년이야.']\n"
          ]
        }
      ]
    },
    {
      "cell_type": "markdown",
      "source": [
        "##33page"
      ],
      "metadata": {
        "id": "Kki2MnN6y5QC"
      }
    },
    {
      "cell_type": "code",
      "source": [
        "#16\n",
        "a = \"a:b:c:d\"\n",
        "print(a.split(':'))"
      ],
      "metadata": {
        "colab": {
          "base_uri": "https://localhost:8080/"
        },
        "id": "bPqxlSDkmPBY",
        "outputId": "5da6b6ca-08fe-44b9-9885-5adfb1042269"
      },
      "execution_count": 51,
      "outputs": [
        {
          "output_type": "stream",
          "name": "stdout",
          "text": [
            "['a', 'b', 'c', 'd']\n"
          ]
        }
      ]
    },
    {
      "cell_type": "code",
      "source": [
        "#17\n",
        "BTS = \"정국, 진, 뷔, 슈가, 지민, RM, 제이홉\"\n",
        "BTS_member = BTS.split(', ')\n",
        "print(\"방탄 멤버:\", BTS_member)\n",
        "for i in range(7):\n",
        "  print(BTS_member[i], \"사랑해!\")"
      ],
      "metadata": {
        "colab": {
          "base_uri": "https://localhost:8080/"
        },
        "id": "ytgmYc0NmcrW",
        "outputId": "911aad86-a63e-4ca0-d5cb-091b3e186c48"
      },
      "execution_count": 54,
      "outputs": [
        {
          "output_type": "stream",
          "name": "stdout",
          "text": [
            "방탄 멤버: ['정국', '진', '뷔', '슈가', '지민', 'RM', '제이홉']\n",
            "정국 사랑해!\n",
            "진 사랑해!\n",
            "뷔 사랑해!\n",
            "슈가 사랑해!\n",
            "지민 사랑해!\n",
            "RM 사랑해!\n",
            "제이홉 사랑해!\n"
          ]
        }
      ]
    },
    {
      "cell_type": "code",
      "source": [
        "#18\n",
        "import array\n",
        "file_names = [\"file1.py\", \"file2.txt\", \"file3.pptx\", \"file4.doc\"]\n",
        "for file_name in file_names:\n",
        "  arr = file_name.split(\".\")\n",
        "  print(f'{file_name:11}=> 파일명:{arr[0]}, 확장자:{arr[1]}')"
      ],
      "metadata": {
        "colab": {
          "base_uri": "https://localhost:8080/"
        },
        "id": "i_M38tASn2tM",
        "outputId": "14d27c18-fa08-4063-aeee-ae830d7bf19f"
      },
      "execution_count": 52,
      "outputs": [
        {
          "output_type": "stream",
          "name": "stdout",
          "text": [
            "file1.py   => 파일명:file1, 확장자:py\n",
            "file2.txt  => 파일명:file2, 확장자:txt\n",
            "file3.pptx => 파일명:file3, 확장자:pptx\n",
            "file4.doc  => 파일명:file4, 확장자:doc\n"
          ]
        }
      ]
    },
    {
      "cell_type": "code",
      "source": [
        "#19\n",
        "sen = input(\"문자열 입력:\")\n",
        "a = sen.split()\n",
        "for wor in a:\n",
        "  print(wor[0], end = '')"
      ],
      "metadata": {
        "colab": {
          "base_uri": "https://localhost:8080/"
        },
        "id": "QuDx7q3DsG5P",
        "outputId": "f9a44885-2a9f-4a58-a749-8fd1f5e45b20"
      },
      "execution_count": 65,
      "outputs": [
        {
          "output_type": "stream",
          "name": "stdout",
          "text": [
            "문자열 입력:복잡한 세상 편하게 살자\n",
            "복세편살"
          ]
        }
      ]
    },
    {
      "cell_type": "code",
      "source": [
        "#20\n",
        "print(\",\".join('abcd'))\n",
        "print(\"::\".join([\"1\", \"2\", \"3\", \"4\", \"5\"]))"
      ],
      "metadata": {
        "colab": {
          "base_uri": "https://localhost:8080/"
        },
        "id": "GGUyJmRuyUSN",
        "outputId": "22dfffc4-9a52-4650-c194-57dfbd647ee3"
      },
      "execution_count": 68,
      "outputs": [
        {
          "output_type": "stream",
          "name": "stdout",
          "text": [
            "a,b,c,d\n",
            "1::2::3::4::5\n"
          ]
        }
      ]
    }
  ]
}