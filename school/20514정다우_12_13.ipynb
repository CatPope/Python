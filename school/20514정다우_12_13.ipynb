{
  "nbformat": 4,
  "nbformat_minor": 0,
  "metadata": {
    "colab": {
      "provenance": []
    },
    "kernelspec": {
      "name": "python3",
      "display_name": "Python 3"
    },
    "language_info": {
      "name": "python"
    }
  },
  "cells": [
    {
      "cell_type": "code",
      "execution_count": null,
      "metadata": {
        "colab": {
          "base_uri": "https://localhost:8080/"
        },
        "id": "LGF9zv8bnwyY",
        "outputId": "ba227551-cdae-4dc7-ec38-51cb9cc21d5c"
      },
      "outputs": [
        {
          "output_type": "stream",
          "name": "stdout",
          "text": [
            "물건 구매가를 입력하세요: 60000\n",
            "구매가:  60000\n",
            "할인율:  7.5\n",
            "할인 금액:  4500\n",
            "지불 금액:  55500\n"
          ]
        }
      ],
      "source": [
        "cost = int(input(\"물건 구매가를 입력하세요: \"))\n",
        "print(\"구매가: \", cost)\n",
        "\n",
        "if 10000 <= cost < 50000 :\n",
        "  dis = 5\n",
        "elif 50000 <= cost < 300000 :\n",
        "  dis = 7.5\n",
        "elif 300000 <= cost :\n",
        "  dis = 10\n",
        "print(\"할인율 :\", dis)\n",
        "\n",
        "rate = int(cost * (dis / 100))\n",
        "print(\"할인 금액 :\", rate)\n",
        "print(\"지불 금액 :\", cost - rate)"
      ]
    },
    {
      "cell_type": "code",
      "source": [
        "print(\"원하는 메뉴를 선택 하세요: \")\n",
        "print(\"1. 떡볶이 3000원\")\n",
        "print(\"2. 김밥 2500원\")\n",
        "print(\"3. 튀김 3500원\")\n",
        "\n",
        "manue = int(input(\"번호 선택 : \"))\n",
        "if manue == 1 :\n",
        "  print(\"떡볶이를 선택하셨군요!\")\n",
        "elif manue == 2 :\n",
        "  print(\"김밥을 선택하셨군요!\")\n",
        "elif manue == 3 :\n",
        "  print(\"튀김을 선택하셨군요!\")\n",
        "else :\n",
        "  print(\"1, 2, 3중 하나를 선택해 주세요\")"
      ],
      "metadata": {
        "colab": {
          "base_uri": "https://localhost:8080/"
        },
        "id": "3WAoWbjcqBlQ",
        "outputId": "bb546825-2bc0-4667-aebf-821d558b4f5a"
      },
      "execution_count": null,
      "outputs": [
        {
          "output_type": "stream",
          "name": "stdout",
          "text": [
            "원하는 메뉴를 선택 하세요: \n",
            "1. 떡볶이 3000원\n",
            "2. 김밥 2500원\n",
            "3. 튀김 3500원\n",
            "번호 선택 : 4\n",
            "1, 2, 3중 하나를 선택해 주세요\n"
          ]
        }
      ]
    },
    {
      "cell_type": "code",
      "source": [
        "weight = int(input(\"체중을 입력하세요 : \"))\n",
        "height = float(input(\"키(m)를 입력하세요 : \"))\n",
        "\n",
        "bmi = weight / height**2\n",
        "if 0 < bmi <= 15 :\n",
        "  print(\"당신의 bmi지수는\", bmi, \"이며 정상입니다.\")\n",
        "elif 15 < bmi <= 25 :\n",
        "  print(\"당신의 bmi지수는\", bmi, \"이며 과체중입니다.\")\n",
        "else : \n",
        "  print(\"당신의 bmi지수는\", bmi, \"이며 비만입니다.\")"
      ],
      "metadata": {
        "colab": {
          "base_uri": "https://localhost:8080/"
        },
        "id": "4kG-_SGRt-TV",
        "outputId": "842f30fd-3573-42ef-8798-b217f35f85eb"
      },
      "execution_count": null,
      "outputs": [
        {
          "output_type": "stream",
          "name": "stdout",
          "text": [
            "체중을 입력하세요 : 88\n",
            "키(m)를 입력하세요 : 1.8\n",
            "당신의 bmi지수는 27.160493827160494 이며 비만입니다.\n"
          ]
        }
      ]
    },
    {
      "cell_type": "code",
      "source": [
        "weight = int(input(\"체중을 입력하세요 : \"))\n",
        "height = int(input(\"키(cm)를 입력하세요 : \"))\n",
        "age = int(input(\"나이를 입력하세요 : \"))\n",
        "sex = input(\"성별을 입력하세요 (남자/여자) : \")\n",
        "if sex == \"남자\" :\n",
        "  print(\"당신의 기초대사량은\", 66.47 + (13.75 * weight) + (5 * height) - (6.76 * age), \"입니다.\")\n",
        "elif sex == \"여자\" :\n",
        "  print(\"당신의 기초대사량은\", 655.1 + (9.56 * weight) + (1.85 * height) - (4.68 * age), \"입니다.\")"
      ],
      "metadata": {
        "colab": {
          "base_uri": "https://localhost:8080/"
        },
        "id": "EbK5LiE3KGcm",
        "outputId": "2bce0d98-4d2c-4935-f4fd-4eb09bbfcad3"
      },
      "execution_count": null,
      "outputs": [
        {
          "output_type": "stream",
          "name": "stdout",
          "text": [
            "체중을 입력하세요 : 90\n",
            "키(cm)를 입력하세요 : 183\n",
            "나이를 입력하세요 : 39\n",
            "성별을 입력하세요 (남자/여자) : 남자\n",
            "당신의 기초대사량은 1955.3300000000004 입니다.\n"
          ]
        }
      ]
    },
    {
      "cell_type": "code",
      "source": [
        "x = 17\n",
        "if x > 10 :\n",
        "  if x % 2 == 0 :\n",
        "    print(\"10초과 짝수\")\n",
        "  else : \n",
        "    print(\"10초과 홀수\")\n",
        "else : \n",
        "  print(\"10 이하.\")"
      ],
      "metadata": {
        "colab": {
          "base_uri": "https://localhost:8080/"
        },
        "id": "DsL0RmPHMqpO",
        "outputId": "fdbff1f4-f3d9-4eb6-ec61-01dac60079aa"
      },
      "execution_count": null,
      "outputs": [
        {
          "output_type": "stream",
          "name": "stdout",
          "text": [
            "10초과 홀수\n"
          ]
        }
      ]
    },
    {
      "cell_type": "code",
      "source": [
        "userid = input(\"아이디를 입력하세요 : \")\n",
        "level = int(input(\"회원 레벨을 입력하세요 : \"))\n",
        "if userid == \"admin\" :\n",
        "  print(\"모든 콘텐츠 이용 가능\")\n",
        "elif 7 >= level >= 2 :\n",
        "  print(\"일부 콘텐츠 이용 가능\")\n",
        "else : \n",
        "  print(\"너에게 줄 것 따위 없다!\")"
      ],
      "metadata": {
        "colab": {
          "base_uri": "https://localhost:8080/"
        },
        "id": "IcqGs5LENNim",
        "outputId": "dd9e4d5c-974f-4626-995f-23b3a58f394a"
      },
      "execution_count": null,
      "outputs": [
        {
          "output_type": "stream",
          "name": "stdout",
          "text": [
            "아이디를 입력하세요 : ㄹㅁㄹ\n",
            "회원 레벨을 입력하세요 : 3\n",
            "일부 콘텐츠 이용 가능\n"
          ]
        }
      ]
    },
    {
      "cell_type": "code",
      "source": [
        "nyear = int(input(\"현재년을 입력하세요 : \"))\n",
        "nmonth = int(input(\"현재달을 입력하세요 : \"))\n",
        "nday = int(input(\"현재일을 입력하세요 : \"))\n",
        "year = int(input(\"출생년을 입력하세요 : \"))\n",
        "month = int(input(\"출생달을 입력하세요 : \"))\n",
        "day = int(input(\"출생일을 입력하세요 : \"))\n",
        "print(\"-----------------------------------------\")\n",
        "print(\"오늘 날짜\", nyear, \"년\", nmonth, \"월\", nday, \"일\")\n",
        "print(\"생년 월일\", year, \"년\", month, \"월\", day, \"일\")\n",
        "print(\"-----------------------------------------\")\n",
        "if nmonth > month :\n",
        "  print(\"만 나이 :\", nyear - year, \"세\")\n",
        "\n",
        "elif nmonth == month :\n",
        "  if nday > day :\n",
        "    print(\"만 나이 :\", nyear - year, \"세\")\n",
        "  elif nday < day :\n",
        "    print(\"만 나이 :\", nyear - year - 1, \"세\")\n",
        "\n",
        "else : \n",
        "  print(\"만 나이 :\", nyear - year - 1, \"세\")"
      ],
      "metadata": {
        "colab": {
          "base_uri": "https://localhost:8080/"
        },
        "id": "5pAUXHFpOjmS",
        "outputId": "e13c9aee-e0de-46bd-d537-842db313ccc3"
      },
      "execution_count": null,
      "outputs": [
        {
          "output_type": "stream",
          "name": "stdout",
          "text": [
            "현재년을 입력하세요 : 2022\n",
            "현재달을 입력하세요 : 4\n",
            "현재일을 입력하세요 : 11\n",
            "출생년을 입력하세요 : 2006\n",
            "출생달을 입력하세요 : 4\n",
            "출생일을 입력하세요 : 12\n",
            "-----------------------------------------\n",
            "오늘 날짜 2022 년 4 월 11 일\n",
            "생년 월일 2006 년 4 월 12 일\n",
            "-----------------------------------------\n",
            "만 나이 : 15 세\n"
          ]
        }
      ]
    }
  ]
}