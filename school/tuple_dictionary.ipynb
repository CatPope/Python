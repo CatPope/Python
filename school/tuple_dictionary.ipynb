{
  "nbformat": 4,
  "nbformat_minor": 0,
  "metadata": {
    "colab": {
      "provenance": []
    },
    "kernelspec": {
      "name": "python3",
      "display_name": "Python 3"
    },
    "language_info": {
      "name": "python"
    }
  },
  "cells": [
    {
      "cell_type": "code",
      "execution_count": null,
      "metadata": {
        "colab": {
          "base_uri": "https://localhost:8080/"
        },
        "id": "SaC9HhnThu2F",
        "outputId": "7a70cb82-c581-4229-c72e-b9db8f741549"
      },
      "outputs": [
        {
          "output_type": "stream",
          "name": "stdout",
          "text": [
            "()\n",
            "(1,)\n",
            "(1, 2, 3)\n",
            "(1, 2, 3)\n",
            "('a', 'b', ('ab', 'cd'))\n"
          ]
        }
      ],
      "source": [
        "#1\n",
        "\n",
        "t1 = ()\n",
        "t2 = (1, )\n",
        "t3 = (1,2,3)\n",
        "t4 = 1, 2, 3\n",
        "t5 = ('a', 'b', ('ab', 'cd'))\n",
        "\n",
        "print(t1)\n",
        "print(t2)\n",
        "print(t3)\n",
        "print(t4)\n",
        "print(t5)"
      ]
    },
    {
      "cell_type": "code",
      "source": [
        "#2\n",
        "\n",
        "tu = 2,\n",
        "print(type(tu))\n",
        "print(tu)"
      ],
      "metadata": {
        "colab": {
          "base_uri": "https://localhost:8080/"
        },
        "id": "DqSCllj1kbdV",
        "outputId": "010898bb-38d0-4568-f807-303b4d7ccda1"
      },
      "execution_count": null,
      "outputs": [
        {
          "output_type": "stream",
          "name": "stdout",
          "text": [
            "<class 'tuple'>\n",
            "(2,)\n"
          ]
        }
      ]
    },
    {
      "cell_type": "code",
      "source": [
        "#3-1\n",
        "\n",
        "tu = 1,2,3,4,5\n",
        "\n",
        "print(tu[3])\n",
        "print(tu[1:4])\n",
        "print(tu + (6,7))\n",
        "print(tu *2)"
      ],
      "metadata": {
        "colab": {
          "base_uri": "https://localhost:8080/"
        },
        "id": "xZLvxRYSkuEM",
        "outputId": "16bdbf0d-ccfd-46ab-c5f2-959fa0b3523c"
      },
      "execution_count": null,
      "outputs": [
        {
          "output_type": "stream",
          "name": "stdout",
          "text": [
            "4\n",
            "(2, 3, 4)\n",
            "(1, 2, 3, 4, 5, 6, 7)\n",
            "(1, 2, 3, 4, 5, 1, 2, 3, 4, 5)\n"
          ]
        }
      ]
    },
    {
      "cell_type": "code",
      "source": [
        "#3-2\n",
        "\n",
        "tu[1] = 100\n",
        "del tu[1]       ##값 변경 불가"
      ],
      "metadata": {
        "colab": {
          "base_uri": "https://localhost:8080/",
          "height": 193
        },
        "id": "UP7iwHdWliRZ",
        "outputId": "4f0a8c19-ff1e-4c9a-bf12-b2c111576a56"
      },
      "execution_count": null,
      "outputs": [
        {
          "output_type": "error",
          "ename": "TypeError",
          "evalue": "ignored",
          "traceback": [
            "\u001b[0;31m---------------------------------------------------------------------------\u001b[0m",
            "\u001b[0;31mTypeError\u001b[0m                                 Traceback (most recent call last)",
            "\u001b[0;32m<ipython-input-8-568e9461a7fd>\u001b[0m in \u001b[0;36m<cell line: 1>\u001b[0;34m()\u001b[0m\n\u001b[0;32m----> 1\u001b[0;31m \u001b[0mtu\u001b[0m\u001b[0;34m[\u001b[0m\u001b[0;36m1\u001b[0m\u001b[0;34m]\u001b[0m \u001b[0;34m=\u001b[0m \u001b[0;36m100\u001b[0m\u001b[0;34m\u001b[0m\u001b[0;34m\u001b[0m\u001b[0m\n\u001b[0m\u001b[1;32m      2\u001b[0m \u001b[0;32mdel\u001b[0m \u001b[0mtu\u001b[0m\u001b[0;34m[\u001b[0m\u001b[0;36m1\u001b[0m\u001b[0;34m]\u001b[0m\u001b[0;34m\u001b[0m\u001b[0;34m\u001b[0m\u001b[0m\n",
            "\u001b[0;31mTypeError\u001b[0m: 'tuple' object does not support item assignment"
          ]
        }
      ]
    },
    {
      "cell_type": "code",
      "source": [
        "#4\n",
        "tu = \"이순신\", \"김유신\", \"강감찬\"\n",
        "lee, kim, kang = tu\n",
        "print(lee)\n",
        "print(kim)\n",
        "print(kang)"
      ],
      "metadata": {
        "colab": {
          "base_uri": "https://localhost:8080/"
        },
        "id": "Nr_2m1PDl8ti",
        "outputId": "ec04cf21-7ca7-4c3f-a13a-4c8c459254ea"
      },
      "execution_count": null,
      "outputs": [
        {
          "output_type": "stream",
          "name": "stdout",
          "text": [
            "이순신\n",
            "김유신\n",
            "강감찬\n"
          ]
        }
      ]
    },
    {
      "cell_type": "code",
      "source": [
        "#5\n",
        "\n",
        "a = 12\n",
        "b = 34\n",
        "print(a, b)\n",
        "\n",
        "c = a\n",
        "a = b\n",
        "b = c\n",
        "print(a, b)"
      ],
      "metadata": {
        "colab": {
          "base_uri": "https://localhost:8080/"
        },
        "id": "6aJ0ipjGmPR9",
        "outputId": "67c36fd9-5b94-448e-b63d-ef96eecf8224"
      },
      "execution_count": null,
      "outputs": [
        {
          "output_type": "stream",
          "name": "stdout",
          "text": [
            "12 34\n",
            "34 12\n"
          ]
        }
      ]
    },
    {
      "cell_type": "code",
      "source": [
        "#6\n",
        "\n",
        "a, b = 12, 34\n",
        "print(a, b)\n",
        "\n",
        "a, b = b, a\n",
        "print(a, b)"
      ],
      "metadata": {
        "colab": {
          "base_uri": "https://localhost:8080/"
        },
        "id": "svFwGLR2mfx_",
        "outputId": "e2df342a-8856-4b6d-cf53-ddcdb90be18a"
      },
      "execution_count": null,
      "outputs": [
        {
          "output_type": "stream",
          "name": "stdout",
          "text": [
            "12 34\n",
            "34 12\n"
          ]
        }
      ]
    },
    {
      "cell_type": "code",
      "source": [
        "#6\n",
        "\n",
        "import time\n",
        "\n",
        "now = time.localtime()\n",
        "print(now)\n",
        "print(now.tm_hour)\n",
        "print(now.tm_min)"
      ],
      "metadata": {
        "colab": {
          "base_uri": "https://localhost:8080/"
        },
        "id": "zC6ziPx2mzox",
        "outputId": "27e4d068-ecc3-45af-e108-42fbdc1cea3e"
      },
      "execution_count": null,
      "outputs": [
        {
          "output_type": "stream",
          "name": "stdout",
          "text": [
            "time.struct_time(tm_year=2023, tm_mon=7, tm_mday=13, tm_hour=0, tm_min=22, tm_sec=5, tm_wday=3, tm_yday=194, tm_isdst=0)\n",
            "0\n",
            "22\n"
          ]
        }
      ]
    },
    {
      "cell_type": "code",
      "source": [
        "#7\n",
        "\n",
        "d, m = divmod(7, 3)\n",
        "print(\"몫\", d)\n",
        "print(\"나머지\", m)"
      ],
      "metadata": {
        "colab": {
          "base_uri": "https://localhost:8080/"
        },
        "id": "14ODiIBioF7I",
        "outputId": "883188ce-4f64-4f5c-ef50-f890d8f4fa4c"
      },
      "execution_count": null,
      "outputs": [
        {
          "output_type": "stream",
          "name": "stdout",
          "text": [
            "몫 2\n",
            "나머지 1\n"
          ]
        }
      ]
    },
    {
      "cell_type": "code",
      "source": [
        "#8\n",
        "\n",
        "score = [1, 2, 3, 4, 5]\n",
        "print(type(score))\n",
        "tu = tuple(score)\n",
        "print(tu)\n",
        "print(type(tu))\n",
        "li = list(tu)\n",
        "print(li)\n",
        "print(type(score))"
      ],
      "metadata": {
        "colab": {
          "base_uri": "https://localhost:8080/"
        },
        "id": "9-u8H-UfphVL",
        "outputId": "9567e360-863a-4e4b-f898-7752bb9e3354"
      },
      "execution_count": null,
      "outputs": [
        {
          "output_type": "stream",
          "name": "stdout",
          "text": [
            "<class 'list'>\n",
            "(1, 2, 3, 4, 5)\n",
            "<class 'tuple'>\n",
            "[1, 2, 3, 4, 5]\n",
            "<class 'list'>\n"
          ]
        }
      ]
    },
    {
      "cell_type": "code",
      "source": [
        "#9\n",
        "\n",
        "dic = {\"boy\" : \"소년\", \"school\" : \"학교\", \"book\" : \"책\"}\n",
        "print(type(dic))\n",
        "print(dic['boy'])\n",
        "print(dic['school'])\n",
        "print(dic['book'])"
      ],
      "metadata": {
        "colab": {
          "base_uri": "https://localhost:8080/"
        },
        "id": "YTdBRB_mp2xU",
        "outputId": "fb4db6f7-ee01-4a42-9247-a7d914e889a2"
      },
      "execution_count": null,
      "outputs": [
        {
          "output_type": "stream",
          "name": "stdout",
          "text": [
            "<class 'dict'>\n",
            "소년\n",
            "학교\n",
            "책\n"
          ]
        }
      ]
    },
    {
      "cell_type": "code",
      "source": [
        "print(dic.keys())\n",
        "print(type(dic.keys))\n",
        "print(dic.values())\n",
        "print(type(dic.values()))\n",
        "print(dic.items())\n",
        "print(type(dic.items()))"
      ],
      "metadata": {
        "colab": {
          "base_uri": "https://localhost:8080/"
        },
        "id": "vZgNn1nAu-M7",
        "outputId": "0b44c157-0343-4abe-ed0f-51c7065edb1e"
      },
      "execution_count": null,
      "outputs": [
        {
          "output_type": "stream",
          "name": "stdout",
          "text": [
            "dict_keys(['boy', 'school', 'book'])\n",
            "<class 'builtin_function_or_method'>\n",
            "dict_values(['소년', '학교', '책'])\n",
            "<class 'dict_values'>\n",
            "dict_items([('boy', '소년'), ('school', '학교'), ('book', '책')])\n",
            "<class 'dict_items'>\n"
          ]
        }
      ]
    },
    {
      "cell_type": "code",
      "source": [
        "print(sorted(dic))\n",
        "print(dic)                  ##원본에 효과X"
      ],
      "metadata": {
        "colab": {
          "base_uri": "https://localhost:8080/"
        },
        "id": "A-BO4R1Hvjt6",
        "outputId": "f31f2d84-e652-4dda-9be8-79fd61fe2f4e"
      },
      "execution_count": null,
      "outputs": [
        {
          "output_type": "stream",
          "name": "stdout",
          "text": [
            "['book', 'boy', 'school']\n",
            "{'boy': '소년', 'school': '학교', 'book': '책'}\n"
          ]
        }
      ]
    },
    {
      "cell_type": "code",
      "source": [
        "dic2 = sorted(dic.keys())\n",
        "print(dic2)\n",
        "print(dic)"
      ],
      "metadata": {
        "colab": {
          "base_uri": "https://localhost:8080/"
        },
        "id": "0e3TvvHVyN6G",
        "outputId": "f6f9168f-e4db-436c-88d2-62e8b2faa550"
      },
      "execution_count": null,
      "outputs": [
        {
          "output_type": "stream",
          "name": "stdout",
          "text": [
            "['book', 'boy', 'school']\n",
            "{'boy': '소년', 'school': '학교', 'book': '책'}\n"
          ]
        }
      ]
    },
    {
      "cell_type": "code",
      "source": [
        "dic3 = sorted(dic.values())\n",
        "print(dic4)"
      ],
      "metadata": {
        "colab": {
          "base_uri": "https://localhost:8080/"
        },
        "id": "iqlVo6ONyzo1",
        "outputId": "1ee7f4f9-b8ea-4cf7-fe0c-ab3e7667c18a"
      },
      "execution_count": null,
      "outputs": [
        {
          "output_type": "stream",
          "name": "stdout",
          "text": [
            "['소년', '책', '학교']\n"
          ]
        }
      ]
    },
    {
      "cell_type": "code",
      "source": [
        "dic4 = sorted(dic.values(), reverse=True)\n",
        "print(dic4)\n",
        "print(dic)"
      ],
      "metadata": {
        "colab": {
          "base_uri": "https://localhost:8080/"
        },
        "id": "E_tamH8xy-Z0",
        "outputId": "4eb500e8-f29c-4773-a36a-344096075727"
      },
      "execution_count": null,
      "outputs": [
        {
          "output_type": "stream",
          "name": "stdout",
          "text": [
            "['학교', '책', '소년']\n",
            "{'boy': '소년', 'school': '학교', 'book': '책'}\n"
          ]
        }
      ]
    },
    {
      "cell_type": "code",
      "source": [
        "dic5 = sorted(dic.items())\n",
        "print(dic5)"
      ],
      "metadata": {
        "colab": {
          "base_uri": "https://localhost:8080/"
        },
        "id": "Fiw3ShyazONO",
        "outputId": "ac7d7adb-14d1-4b88-bd99-e7f544a951e5"
      },
      "execution_count": null,
      "outputs": [
        {
          "output_type": "stream",
          "name": "stdout",
          "text": [
            "[('book', '책'), ('boy', '소년'), ('school', '학교')]\n"
          ]
        }
      ]
    },
    {
      "cell_type": "code",
      "source": [
        "dic6 = sorted(dic.items(), reverse=True)\n",
        "print(dic6)"
      ],
      "metadata": {
        "colab": {
          "base_uri": "https://localhost:8080/"
        },
        "id": "avr15YRPztKq",
        "outputId": "90eb77ee-3df3-44a3-a70f-598923186438"
      },
      "execution_count": null,
      "outputs": [
        {
          "output_type": "stream",
          "name": "stdout",
          "text": [
            "[('school', '학교'), ('boy', '소년'), ('book', '책')]\n"
          ]
        }
      ]
    },
    {
      "cell_type": "code",
      "source": [
        "import operator\n",
        "\n",
        "dic7 = sorted(dic.items(), key=operator.itemgetter(1))\n",
        "print(dic7)"
      ],
      "metadata": {
        "colab": {
          "base_uri": "https://localhost:8080/"
        },
        "id": "STvm0sTsz1tS",
        "outputId": "cb710526-a603-4751-b099-a2542aea3597"
      },
      "execution_count": null,
      "outputs": [
        {
          "output_type": "stream",
          "name": "stdout",
          "text": [
            "[('boy', '소년'), ('book', '책'), ('school', '학교')]\n"
          ]
        }
      ]
    },
    {
      "cell_type": "code",
      "source": [
        "dic8 = sorted(dic.items(), key=operator.itemgetter(1), reverse=True)\n",
        "print(dic8)"
      ],
      "metadata": {
        "colab": {
          "base_uri": "https://localhost:8080/"
        },
        "id": "pGeTBl2A0WEm",
        "outputId": "0b0a2b89-8394-4d0f-d218-b59bbe0220ab"
      },
      "execution_count": null,
      "outputs": [
        {
          "output_type": "stream",
          "name": "stdout",
          "text": [
            "[('school', '학교'), ('book', '책'), ('boy', '소년')]\n"
          ]
        }
      ]
    },
    {
      "cell_type": "code",
      "source": [
        "dic = {\"boy\" : \"소년\", \"school\" : \"학교\", \"book\" : \"책\"}\n",
        "\n",
        "for k in dic:\n",
        "  print(k)"
      ],
      "metadata": {
        "colab": {
          "base_uri": "https://localhost:8080/"
        },
        "id": "1SITYQIr1JE5",
        "outputId": "c20d1732-2a56-474c-d8e3-febb8dccf131"
      },
      "execution_count": null,
      "outputs": [
        {
          "output_type": "stream",
          "name": "stdout",
          "text": [
            "boy\n",
            "school\n",
            "book\n"
          ]
        }
      ]
    },
    {
      "cell_type": "code",
      "source": [
        "for k in dic.keys():\n",
        "  print(k)"
      ],
      "metadata": {
        "colab": {
          "base_uri": "https://localhost:8080/"
        },
        "id": "-FrhhlD01XeZ",
        "outputId": "6625e4e5-03db-4000-e2e8-02e044931cca"
      },
      "execution_count": null,
      "outputs": [
        {
          "output_type": "stream",
          "name": "stdout",
          "text": [
            "boy\n",
            "school\n",
            "book\n"
          ]
        }
      ]
    },
    {
      "cell_type": "code",
      "source": [
        "for k in dic.values():\n",
        "  print(k)"
      ],
      "metadata": {
        "colab": {
          "base_uri": "https://localhost:8080/"
        },
        "id": "NPNyNrLS1dZH",
        "outputId": "c34acf4d-7368-4079-cd08-5cf01e85cc87"
      },
      "execution_count": null,
      "outputs": [
        {
          "output_type": "stream",
          "name": "stdout",
          "text": [
            "소년\n",
            "학교\n",
            "책\n"
          ]
        }
      ]
    },
    {
      "cell_type": "code",
      "source": [
        "for k in dic:\n",
        "  print(f\"key:{k}, value:{dic[k]}\")"
      ],
      "metadata": {
        "colab": {
          "base_uri": "https://localhost:8080/"
        },
        "id": "75gbZdLy1xoK",
        "outputId": "fc7db145-edfc-43bf-b455-faf165b4b491"
      },
      "execution_count": null,
      "outputs": [
        {
          "output_type": "stream",
          "name": "stdout",
          "text": [
            "key:boy, value:소년\n",
            "key:school, value:학교\n",
            "key:book, value:책\n"
          ]
        }
      ]
    },
    {
      "cell_type": "code",
      "source": [
        "for k in dic.items():\n",
        "  print(k)"
      ],
      "metadata": {
        "colab": {
          "base_uri": "https://localhost:8080/"
        },
        "id": "zjlk5J9A2oc1",
        "outputId": "fef43d18-5174-4a78-c305-dd47d206e5e2"
      },
      "execution_count": null,
      "outputs": [
        {
          "output_type": "stream",
          "name": "stdout",
          "text": [
            "('boy', '소년')\n",
            "('school', '학교')\n",
            "('book', '책')\n"
          ]
        }
      ]
    },
    {
      "cell_type": "code",
      "source": [
        "for k, l in dic.items():\n",
        "  print(k, l)"
      ],
      "metadata": {
        "colab": {
          "base_uri": "https://localhost:8080/"
        },
        "id": "oJ9ryBus28Zo",
        "outputId": "839fcb50-cf6e-4e52-8e50-fcfadac0c3ec"
      },
      "execution_count": null,
      "outputs": [
        {
          "output_type": "stream",
          "name": "stdout",
          "text": [
            "boy 소년\n",
            "school 학교\n",
            "book 책\n"
          ]
        }
      ]
    },
    {
      "cell_type": "code",
      "source": [],
      "metadata": {
        "id": "9eeM69FW2-HM"
      },
      "execution_count": null,
      "outputs": []
    }
  ]
}