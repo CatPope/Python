{
  "nbformat": 4,
  "nbformat_minor": 0,
  "metadata": {
    "colab": {
      "provenance": []
    },
    "kernelspec": {
      "name": "python3",
      "display_name": "Python 3"
    },
    "language_info": {
      "name": "python"
    }
  },
  "cells": [
    {
      "cell_type": "markdown",
      "source": [
        "##17page"
      ],
      "metadata": {
        "id": "dw_Odxklyu55"
      }
    },
    {
      "cell_type": "code",
      "execution_count": null,
      "metadata": {
        "colab": {
          "base_uri": "https://localhost:8080/"
        },
        "id": "GYfIjfLmxy1q",
        "outputId": "b5e7cd3a-f57e-419a-b57b-25381849cfd8"
      },
      "outputs": [
        {
          "output_type": "stream",
          "name": "stdout",
          "text": [
            "2 4 6 8 10 12 14 16 18 20 "
          ]
        }
      ],
      "source": [
        "#ex9\n",
        "\n",
        "i = 1\n",
        "while i <= 20 :\n",
        "  if i % 2 == 0 :\n",
        "    print(i, end=' ')\n",
        "  i+=1"
      ]
    },
    {
      "cell_type": "code",
      "source": [
        "#ex10\n",
        "\n",
        "i = 10\n",
        "while i <= 50 :\n",
        "  if i % 3 != 0 :\n",
        "    print(i, end=' ')\n",
        "  i+=1"
      ],
      "metadata": {
        "colab": {
          "base_uri": "https://localhost:8080/"
        },
        "id": "FRToMU0MyufB",
        "outputId": "ecda29af-9591-4cbd-fbc2-3059bc841bd7"
      },
      "execution_count": null,
      "outputs": [
        {
          "output_type": "stream",
          "name": "stdout",
          "text": [
            "10 11 13 14 16 17 19 20 22 23 25 26 28 29 31 32 34 35 37 38 40 41 43 44 46 47 49 50 "
          ]
        }
      ]
    },
    {
      "cell_type": "code",
      "source": [
        "pw = \"\"\n",
        "\n",
        "while pw != \"python\" :\n",
        "  pw = input(\"암호 입력 :\")\n",
        "\n",
        "print(\"로그인 성공!\")"
      ],
      "metadata": {
        "colab": {
          "base_uri": "https://localhost:8080/"
        },
        "id": "BNbtMc9H06rC",
        "outputId": "ba885002-c914-471d-bb95-5ed7b8ecb661"
      },
      "execution_count": null,
      "outputs": [
        {
          "output_type": "stream",
          "name": "stdout",
          "text": [
            "암호 입력 :ㅇㅇ\n",
            "암호 입력 :python\n",
            "로그인 성공!\n"
          ]
        }
      ]
    },
    {
      "cell_type": "code",
      "source": [
        "#ex12\n",
        "\n",
        "import random\n",
        "\n",
        "cnt = 0\n",
        "guess = 0\n",
        "answer = random.randint(1, 100)\n",
        "\n",
        "print(\"1부터  100사이의 숫자를 맞추기\")\n",
        "\n",
        "while guess != answer :\n",
        "  cnt += 1\n",
        "  guess = int(input(\"숫자를 맞춰 보세요 :\"))\n",
        "  if guess > answer :\n",
        "    print(\"높음\")\n",
        "  elif guess < answer :\n",
        "    print(\"낮음\")\n",
        "\n",
        "print(\"축하합니다.\", \"시도 횟수 =\", cnt)"
      ],
      "metadata": {
        "colab": {
          "base_uri": "https://localhost:8080/"
        },
        "id": "tU8g5l5d1W6n",
        "outputId": "e345181a-1813-4208-8b57-bb6787114567"
      },
      "execution_count": null,
      "outputs": [
        {
          "output_type": "stream",
          "name": "stdout",
          "text": [
            "1부터  100사이의 숫자를 맞추기\n",
            "숫자를 맞춰 보세요 :50\n",
            "높음\n",
            "숫자를 맞춰 보세요 :20\n",
            "낮음\n",
            "숫자를 맞춰 보세요 :30\n",
            "낮음\n",
            "숫자를 맞춰 보세요 :44\n",
            "낮음\n",
            "숫자를 맞춰 보세요 :49\n",
            "높음\n",
            "숫자를 맞춰 보세요 :48\n",
            "높음\n",
            "숫자를 맞춰 보세요 :46\n",
            "높음\n",
            "숫자를 맞춰 보세요 :45\n",
            "축하합니다. 시도 횟수 = 8\n"
          ]
        }
      ]
    },
    {
      "cell_type": "markdown",
      "source": [
        "#for문"
      ],
      "metadata": {
        "id": "kTjA4Ltq_7QY"
      }
    },
    {
      "cell_type": "markdown",
      "source": [
        "###18page"
      ],
      "metadata": {
        "id": "xHNE6N7gAxnO"
      }
    },
    {
      "cell_type": "code",
      "source": [
        "#ex1\n",
        "\n",
        "for i in [1, 2 ,3] :\n",
        "  print(\"안녕하세요\")"
      ],
      "metadata": {
        "colab": {
          "base_uri": "https://localhost:8080/"
        },
        "id": "9uCYBIrt5Xj4",
        "outputId": "afe07a35-8ab8-462a-9b8d-e4a4d83e293a"
      },
      "execution_count": null,
      "outputs": [
        {
          "output_type": "stream",
          "name": "stdout",
          "text": [
            "안녕하세요\n",
            "안녕하세요\n",
            "안녕하세요\n"
          ]
        }
      ]
    },
    {
      "cell_type": "code",
      "source": [
        "#ex2\n",
        "\n",
        "for i in range(10) :\n",
        "  print(i, end = ' ')"
      ],
      "metadata": {
        "colab": {
          "base_uri": "https://localhost:8080/"
        },
        "id": "-skZziIQBk4O",
        "outputId": "cf70f6e8-1bf6-4d08-a02e-cff0cad68b4e"
      },
      "execution_count": null,
      "outputs": [
        {
          "output_type": "stream",
          "name": "stdout",
          "text": [
            "0 1 2 3 4 5 6 7 8 9 "
          ]
        }
      ]
    },
    {
      "cell_type": "code",
      "source": [
        "#ex3\n",
        "\n",
        "for i in range(1, 11) :\n",
        "  print(i, end = ' ')"
      ],
      "metadata": {
        "colab": {
          "base_uri": "https://localhost:8080/"
        },
        "id": "xtFVHlJAB-X8",
        "outputId": "d8c23da5-6a4e-4b02-8f85-922f899273e4"
      },
      "execution_count": null,
      "outputs": [
        {
          "output_type": "stream",
          "name": "stdout",
          "text": [
            "1 2 3 4 5 6 7 8 9 10 "
          ]
        }
      ]
    },
    {
      "cell_type": "code",
      "source": [
        "#ex4\n",
        "\n",
        "for i in range(1, 11, 2) :\n",
        "  print(i, end = ' ')"
      ],
      "metadata": {
        "colab": {
          "base_uri": "https://localhost:8080/"
        },
        "id": "qVN4RblsCThV",
        "outputId": "16255e85-6e83-46b8-922e-97649fccd1ae"
      },
      "execution_count": null,
      "outputs": [
        {
          "output_type": "stream",
          "name": "stdout",
          "text": [
            "1 3 5 7 9 "
          ]
        }
      ]
    },
    {
      "cell_type": "code",
      "source": [
        "#ex5\n",
        "\n",
        "for i in range(20, 1, -2) :\n",
        "  print(i, end = ' ')"
      ],
      "metadata": {
        "colab": {
          "base_uri": "https://localhost:8080/"
        },
        "id": "0vFq7QBHCa0l",
        "outputId": "ac627fba-4295-4ebd-ccce-363026437f92"
      },
      "execution_count": null,
      "outputs": [
        {
          "output_type": "stream",
          "name": "stdout",
          "text": [
            "20 18 16 14 12 10 8 6 4 2 "
          ]
        }
      ]
    },
    {
      "cell_type": "code",
      "source": [
        "#ex6\n",
        "\n",
        "for i in range(1, 4) :\n",
        "  print(\"안녕하세요\")"
      ],
      "metadata": {
        "colab": {
          "base_uri": "https://localhost:8080/"
        },
        "id": "qpozPUSuDL6t",
        "outputId": "1ef63433-5a8a-44db-dc4c-00c98c917f8d"
      },
      "execution_count": null,
      "outputs": [
        {
          "output_type": "stream",
          "name": "stdout",
          "text": [
            "안녕하세요\n",
            "안녕하세요\n",
            "안녕하세요\n"
          ]
        }
      ]
    },
    {
      "cell_type": "code",
      "source": [
        "#ex7\n",
        "\n",
        "for i in range(1, 5, 2) :\n",
        "  a += i\n",
        "print(i, end = ' ')"
      ],
      "metadata": {
        "colab": {
          "base_uri": "https://localhost:8080/"
        },
        "id": "zP-D8y1NEOge",
        "outputId": "7474b7e7-a9c7-403d-b926-b476007dad90"
      },
      "execution_count": null,
      "outputs": [
        {
          "output_type": "stream",
          "name": "stdout",
          "text": [
            "3 "
          ]
        }
      ]
    },
    {
      "cell_type": "code",
      "source": [
        "#ex8\n",
        "\n",
        "a = 10\n",
        "for i in range(1, 4) :\n",
        "  print(i,\"번 학생의 성적처리\")"
      ],
      "metadata": {
        "colab": {
          "base_uri": "https://localhost:8080/"
        },
        "id": "oMudBWT6DSv-",
        "outputId": "c0353d0d-b289-4f5f-dac2-e94c3ac054ae"
      },
      "execution_count": null,
      "outputs": [
        {
          "output_type": "stream",
          "name": "stdout",
          "text": [
            "1 번 학생의 성적처리\n",
            "2 번 학생의 성적처리\n",
            "3 번 학생의 성적처리\n"
          ]
        }
      ]
    },
    {
      "cell_type": "code",
      "source": [
        "#ex9\n",
        "\n",
        "for i in range(0, 21, 2) :\n",
        "  if i > 0 :\n",
        "    print(i, end = ' ')"
      ],
      "metadata": {
        "colab": {
          "base_uri": "https://localhost:8080/"
        },
        "id": "m2cq0o_6DfP1",
        "outputId": "f0a3a397-98aa-4356-f425-bd9053392c4e"
      },
      "execution_count": null,
      "outputs": [
        {
          "output_type": "stream",
          "name": "stdout",
          "text": [
            "2 4 6 8 10 12 14 16 18 20 "
          ]
        }
      ]
    },
    {
      "cell_type": "code",
      "source": [
        "#ex10\n",
        "\n",
        "a = 2\n",
        "for i in range(1, 10) :\n",
        "  c = a * i\n",
        "  print(a,\"*\", i, \"=\", c)"
      ],
      "metadata": {
        "colab": {
          "base_uri": "https://localhost:8080/"
        },
        "id": "7zxkyoFqEEYs",
        "outputId": "0e568202-dda9-49a9-9e6a-7d63ad4f464a"
      },
      "execution_count": null,
      "outputs": [
        {
          "output_type": "stream",
          "name": "stdout",
          "text": [
            "2 * 1 = 2\n",
            "2 * 2 = 4\n",
            "2 * 3 = 6\n",
            "2 * 4 = 8\n",
            "2 * 5 = 10\n",
            "2 * 6 = 12\n",
            "2 * 7 = 14\n",
            "2 * 8 = 16\n",
            "2 * 9 = 18\n"
          ]
        }
      ]
    },
    {
      "cell_type": "code",
      "source": [
        "#ex11\n",
        "\n",
        "sum = 0\n",
        "for i in range(1, 11) :\n",
        "  sum += i\n",
        "  print(\"i의 값 :\", i, \" =>  합계 :\", sum)"
      ],
      "metadata": {
        "colab": {
          "base_uri": "https://localhost:8080/"
        },
        "id": "tJJSBuMdFZOb",
        "outputId": "54beac80-e602-4056-d043-9a426bdf3667"
      },
      "execution_count": null,
      "outputs": [
        {
          "output_type": "stream",
          "name": "stdout",
          "text": [
            "i의 값 : 1  =>  합계 : 1\n",
            "i의 값 : 2  =>  합계 : 3\n",
            "i의 값 : 3  =>  합계 : 6\n",
            "i의 값 : 4  =>  합계 : 10\n",
            "i의 값 : 5  =>  합계 : 15\n",
            "i의 값 : 6  =>  합계 : 21\n",
            "i의 값 : 7  =>  합계 : 28\n",
            "i의 값 : 8  =>  합계 : 36\n",
            "i의 값 : 9  =>  합계 : 45\n",
            "i의 값 : 10  =>  합계 : 55\n"
          ]
        }
      ]
    },
    {
      "cell_type": "code",
      "source": [
        "#ex12\n",
        "\n",
        "even_sum = 0\n",
        "for i in range(2, 101, 2) :\n",
        "  even_sum += i\n",
        "print(\"1~100까지의 even_sum =\", even_sum)"
      ],
      "metadata": {
        "colab": {
          "base_uri": "https://localhost:8080/"
        },
        "id": "jPBEITIlGlzs",
        "outputId": "bb56870d-99ea-4c90-ae8b-4dbaaf121a20"
      },
      "execution_count": null,
      "outputs": [
        {
          "output_type": "stream",
          "name": "stdout",
          "text": [
            "1~100까지의 even_sum = 2550\n"
          ]
        }
      ]
    }
  ]
}