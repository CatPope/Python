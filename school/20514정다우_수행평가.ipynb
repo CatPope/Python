{
  "nbformat": 4,
  "nbformat_minor": 0,
  "metadata": {
    "colab": {
      "provenance": [],
      "authorship_tag": "ABX9TyOT+onfoa+uUsv4aXTpJh5I",
      "include_colab_link": true
    },
    "kernelspec": {
      "name": "python3",
      "display_name": "Python 3"
    },
    "language_info": {
      "name": "python"
    }
  },
  "cells": [
    {
      "cell_type": "markdown",
      "metadata": {
        "id": "view-in-github",
        "colab_type": "text"
      },
      "source": [
        "<a href=\"https://colab.research.google.com/github/CatPope/Python/blob/main/20514%EC%A0%95%EB%8B%A4%EC%9A%B0_%EC%88%98%ED%96%89%ED%8F%89%EA%B0%80.ipynb\" target=\"_parent\"><img src=\"https://colab.research.google.com/assets/colab-badge.svg\" alt=\"Open In Colab\"/></a>"
      ]
    },
    {
      "cell_type": "markdown",
      "source": [],
      "metadata": {
        "id": "FlvBT5cl50Ba"
      }
    },
    {
      "cell_type": "markdown",
      "source": [
        "##1page"
      ],
      "metadata": {
        "id": "255AYSxj51Vg"
      }
    },
    {
      "cell_type": "code",
      "execution_count": 1,
      "metadata": {
        "colab": {
          "base_uri": "https://localhost:8080/"
        },
        "id": "ZwGjxOKf4PLj",
        "outputId": "c033ddde-4eac-4250-93a8-526f3f34d621"
      },
      "outputs": [
        {
          "output_type": "stream",
          "name": "stdout",
          "text": [
            "I said \"Hello\" to you.\n",
            "Let's go.\n"
          ]
        }
      ],
      "source": [
        "# 1\n",
        "print('I said \"Hello\" to you.')\n",
        "print(\"Let's go.\")"
      ]
    },
    {
      "cell_type": "code",
      "source": [
        "#2\n",
        "m = int(input(\"삼각형의 밑변의 길이 : \"))\n",
        "h = float(input(\"삼각형의 높이 : \"))\n",
        "print(\"삼각형의 면적 : \", (m*h/2))"
      ],
      "metadata": {
        "colab": {
          "base_uri": "https://localhost:8080/"
        },
        "id": "aiKRZzgY6GdT",
        "outputId": "e21f4620-13db-4ca6-a2d1-9ae5743c6dbb"
      },
      "execution_count": 2,
      "outputs": [
        {
          "output_type": "stream",
          "name": "stdout",
          "text": [
            "삼각형의 밑변의 길이 : 10\n",
            "삼각형의 높이 : 3\n",
            "삼각형의 면적 :  15.0\n"
          ]
        }
      ]
    },
    {
      "cell_type": "code",
      "source": [
        "#3\n",
        "hour = int(input(\"현재 시 : \"))\n",
        "minut = int(input(\"현재 분 : \"))\n",
        "if 0 <= hour < 24 :\n",
        "  if minut+20 > 60 :\n",
        "    hour+=1\n",
        "    print(\"20분 뒤에는\", hour, \"시\", minut+20-60, \"분입니다.\")\n",
        "  else :\n",
        "    print(\"20분 뒤에는\", hour, \"시\", minut+20, \"분입니다.\")\n",
        "elif hour == 24 :\n",
        "  if minut+20 > 60 :\n",
        "    hour+=1\n",
        "    print(\"20분 뒤에는 1시\", minut+20-60, \"분입니다.\")\n",
        "  else :\n",
        "    print(\"20분 뒤에는 1시\", minut+20, \"분입니다.\")"
      ],
      "metadata": {
        "colab": {
          "base_uri": "https://localhost:8080/"
        },
        "id": "M0HnuX2f6nDK",
        "outputId": "12f8f9e2-7edb-4add-f220-c98fc28c6c0d"
      },
      "execution_count": 15,
      "outputs": [
        {
          "output_type": "stream",
          "name": "stdout",
          "text": [
            "현재 시 : 23\n",
            "현재 분 : 50\n",
            "20분 뒤에는 24 시 10 분입니다.\n"
          ]
        }
      ]
    },
    {
      "cell_type": "code",
      "source": [
        "#4\n",
        "num = int(input(\"숫자 입력:\"))\n",
        "\n",
        "if num < 0 :\n",
        "  num *= -1\n",
        "print(num)"
      ],
      "metadata": {
        "colab": {
          "base_uri": "https://localhost:8080/"
        },
        "id": "f0YS_IuW85aa",
        "outputId": "f3cbeb54-b97b-463b-c521-e95da6e055d0"
      },
      "execution_count": 20,
      "outputs": [
        {
          "output_type": "stream",
          "name": "stdout",
          "text": [
            "숫자 입력:5\n",
            "5\n"
          ]
        }
      ]
    },
    {
      "cell_type": "code",
      "source": [
        "#5\n",
        "id = str(input(\"아이디를 입력하세요:\"))\n",
        "level = int(input(\"회원 레벨을 입력하세요:\"))\n",
        "if level==1 or id=='admin' :\n",
        "  print(\"관리자 입니다.\")\n",
        "else :\n",
        "  print(\"관리자가 아닙니다.\")"
      ],
      "metadata": {
        "colab": {
          "base_uri": "https://localhost:8080/"
        },
        "id": "hmiKmO-ZFE86",
        "outputId": "e59c4c49-4c73-43ea-805f-a5b30e06da4b"
      },
      "execution_count": 24,
      "outputs": [
        {
          "output_type": "stream",
          "name": "stdout",
          "text": [
            "아이디를 입력하세요:daf\n",
            "회원 레벨을 입력하세요:1\n",
            "관리자 입니다.\n"
          ]
        }
      ]
    },
    {
      "cell_type": "code",
      "source": [
        "#6\n",
        "max = 0\n",
        "num1 = int(input(\"첫 번째 수:\"))\n",
        "num2 = int(input(\"두 번째 수:\"))\n",
        "num3 = int(input(\"세 번째 수:\"))\n",
        "\n",
        "if num1 > num2  and  num1 > num3 :\n",
        "  max = num1\n",
        "elif num2 > num1  and  num2 > num3 :\n",
        "  max = num2\n",
        "else :\n",
        "  max = num3\n",
        "\n",
        "print(max)"
      ],
      "metadata": {
        "colab": {
          "base_uri": "https://localhost:8080/"
        },
        "id": "FyYUDePhGbQs",
        "outputId": "f87a58fe-07a0-43b1-b8ec-7a416bab8c4f"
      },
      "execution_count": 28,
      "outputs": [
        {
          "output_type": "stream",
          "name": "stdout",
          "text": [
            "첫 번째 수:3\n",
            "두 번째 수:3\n",
            "세 번째 수:3\n",
            "3\n"
          ]
        }
      ]
    },
    {
      "cell_type": "code",
      "source": [
        "#7\n",
        "age = int(input(\"나이 입력:\"))\n",
        "grade = ''\n",
        "\n",
        "if 0 <= age <=7 :\n",
        "  grade = '어린이'\n",
        "elif 7 < age <= 13 :\n",
        "  grade = '초등학생'\n",
        "elif 13 < age <= 16 :\n",
        "  grade = '중학생'\n",
        "elif 16 < age <= 19 :\n",
        "  grade = '고등학생'\n",
        "elif 19 < age :\n",
        "  grade = '성인'\n",
        "\n",
        "print(grade)"
      ],
      "metadata": {
        "colab": {
          "base_uri": "https://localhost:8080/"
        },
        "id": "VyP2aDsJI4fj",
        "outputId": "9d4a6bf6-d061-496a-c08d-3f7779900b07"
      },
      "execution_count": 37,
      "outputs": [
        {
          "output_type": "stream",
          "name": "stdout",
          "text": [
            "나이 입력:-5\n",
            "\n"
          ]
        }
      ]
    },
    {
      "cell_type": "markdown",
      "source": [
        "##2page"
      ],
      "metadata": {
        "id": "uHmvrPCaLQZ0"
      }
    },
    {
      "cell_type": "code",
      "source": [
        "#8\n",
        "age = int(input(\"점수 입력:\"))\n",
        "grade = ''\n",
        "\n",
        "if 90 <= age :\n",
        "  grade = 'A'\n",
        "elif 80 <= age :\n",
        "  grade = 'B'\n",
        "elif 70 <= age :\n",
        "  grade = 'C'\n",
        "elif age < 70 :\n",
        "  grade = 'F'\n",
        "\n",
        "print(grade, \"등급입니다.\")"
      ],
      "metadata": {
        "colab": {
          "base_uri": "https://localhost:8080/"
        },
        "id": "eLZETAslLOvk",
        "outputId": "26f89160-ee68-4646-a7d5-59ae96eb6dd0"
      },
      "execution_count": 38,
      "outputs": [
        {
          "output_type": "stream",
          "name": "stdout",
          "text": [
            "점수 입력:960\n",
            "A 등급입니다.\n"
          ]
        }
      ]
    },
    {
      "cell_type": "code",
      "source": [
        "#9\n",
        "num = int(input(\"숫자 입력:\"))\n",
        "\n",
        "if num%3 == 0  and  num%5 == 0 :\n",
        "  print(\"3과 5의 공배수\")\n",
        "elif num%3 == 0 :\n",
        "  print(\"3의 배수\")\n",
        "else :\n",
        "  print(\"3의 배수 아님\")"
      ],
      "metadata": {
        "colab": {
          "base_uri": "https://localhost:8080/"
        },
        "id": "NnQVbzR1MaYc",
        "outputId": "6f0a7977-24b3-4964-9d68-9867ff608d9c"
      },
      "execution_count": 42,
      "outputs": [
        {
          "output_type": "stream",
          "name": "stdout",
          "text": [
            "숫자 입력:7\n",
            "3의 배수 아님\n"
          ]
        }
      ]
    },
    {
      "cell_type": "code",
      "source": [
        "#10\n",
        "sum = 0 \n",
        "for num in range(1, 10+1) :\n",
        "  sum+=num\n",
        "  print(\"num의 값 :\", num, \"=> 합계 :\", sum)"
      ],
      "metadata": {
        "colab": {
          "base_uri": "https://localhost:8080/"
        },
        "id": "6atdxWKIN5uM",
        "outputId": "1db1f57e-d23a-42ae-e56f-40abf95c7941"
      },
      "execution_count": 46,
      "outputs": [
        {
          "output_type": "stream",
          "name": "stdout",
          "text": [
            "num의 값 : 1 => 합계 : 1\n",
            "num의 값 : 2 => 합계 : 3\n",
            "num의 값 : 3 => 합계 : 6\n",
            "num의 값 : 4 => 합계 : 10\n",
            "num의 값 : 5 => 합계 : 15\n",
            "num의 값 : 6 => 합계 : 21\n",
            "num의 값 : 7 => 합계 : 28\n",
            "num의 값 : 8 => 합계 : 36\n",
            "num의 값 : 9 => 합계 : 45\n",
            "num의 값 : 10 => 합계 : 55\n"
          ]
        }
      ]
    },
    {
      "cell_type": "code",
      "source": [
        "#11\n",
        "fac = 1\n",
        "num = int(input(\"숫자 입력:\"))\n",
        "\n",
        "for i in range(1, num+1) :\n",
        "  fac*=i\n",
        "print(num, \"! = \", fac, sep='')"
      ],
      "metadata": {
        "colab": {
          "base_uri": "https://localhost:8080/"
        },
        "id": "8i4pzTFDPia2",
        "outputId": "329f4482-c9e4-44ad-913d-c46dfba17116"
      },
      "execution_count": 50,
      "outputs": [
        {
          "output_type": "stream",
          "name": "stdout",
          "text": [
            "숫자 입력:10\n",
            "10! = 3628800\n"
          ]
        }
      ]
    },
    {
      "cell_type": "code",
      "source": [
        "#12\n",
        "import random\n",
        "\n",
        "answer = random.randint(1, 100)\n",
        "print(answer)\n",
        "num = 0\n",
        "cnt = 0\n",
        "\n",
        "print(\"1부터 100사이 수 맞히기\")\n",
        "while answer != num :\n",
        "  num = int(input(\"숫자를 맞혀 보세요 : \"))\n",
        "  if num < answer :\n",
        "    print(\"낮음\")\n",
        "  elif num > answer :\n",
        "    print(\"높음\")\n",
        "  cnt+=1\n",
        "print(\"축하합니다. 시도횟수 =\", cnt)"
      ],
      "metadata": {
        "colab": {
          "base_uri": "https://localhost:8080/"
        },
        "id": "hA6BXPLxQf2v",
        "outputId": "e18d1f17-08e5-4ec3-c896-7f6b884d50f2"
      },
      "execution_count": 56,
      "outputs": [
        {
          "output_type": "stream",
          "name": "stdout",
          "text": [
            "4\n",
            "1부터 100사이 수 맞히기\n",
            "숫자를 맞혀 보세요 : 5\n",
            "높음\n",
            "숫자를 맞혀 보세요 : 8\n",
            "높음\n",
            "숫자를 맞혀 보세요 : 100\n",
            "높음\n",
            "숫자를 맞혀 보세요 : 3\n",
            "낮음\n",
            "숫자를 맞혀 보세요 : 4\n",
            "축하합니다. 시도횟수 = 5\n"
          ]
        }
      ]
    },
    {
      "cell_type": "markdown",
      "source": [
        "##3page"
      ],
      "metadata": {
        "id": "rcvKqpP0Upk2"
      }
    },
    {
      "cell_type": "code",
      "source": [
        "#13\n",
        "for i in range(1, 50+1) :\n",
        "  if i%3 != 0 :\n",
        "    print(i, end=' ')"
      ],
      "metadata": {
        "colab": {
          "base_uri": "https://localhost:8080/"
        },
        "id": "KPopPwQ9UtBN",
        "outputId": "2f39cd85-f089-430a-ecb4-721ef21c26bc"
      },
      "execution_count": 59,
      "outputs": [
        {
          "output_type": "stream",
          "name": "stdout",
          "text": [
            "1 2 4 5 7 8 10 11 13 14 16 17 19 20 22 23 25 26 28 29 31 32 34 35 37 38 40 41 43 44 46 47 49 50 "
          ]
        }
      ]
    }
  ]
}