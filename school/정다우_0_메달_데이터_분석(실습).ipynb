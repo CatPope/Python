{
  "nbformat": 4,
  "nbformat_minor": 0,
  "metadata": {
    "colab": {
      "provenance": []
    },
    "kernelspec": {
      "name": "python3",
      "display_name": "Python 3"
    },
    "language_info": {
      "name": "python"
    }
  },
  "cells": [
    {
      "cell_type": "markdown",
      "source": [
        "#🥇 **올림픽 메달 분석하기**"
      ],
      "metadata": {
        "id": "5QIcmX7sUK9s"
      }
    },
    {
      "cell_type": "markdown",
      "source": [
        "###**※ <u>Colab에서 한글 사용을 위한 사전 작업</u> ※**\n",
        "- 코랩에서 한글을 사용하려면 런타임을 실행중인 가상머신(VM)에 한글폰트를 설치해야 한다.\n",
        "- 설치가 완료되면 최상위 디렉터리에서 usr/share/fonts 밑에 폰트가 추가된다.\n",
        "- 폰트의 설치가 완료된 후에는 <u>런타임을 재시작해야 설치된 폰트를 정상적으로 사용</u>할 수 있다. <br>\n",
        "<font color='tomato'>★ 재시작 방법 : [런타임] > [런타임 재시작]</font>"
      ],
      "metadata": {
        "id": "EW37lfb8I-yh"
      }
    },
    {
      "cell_type": "code",
      "source": [
        "# 한글 나눔글꼴을 설치하기 위한 셸 명령어 실행, 실행 후 런타임 재시작\n",
        "!sudo apt-get install -y fonts-nanum\n",
        "!sudo fc-cache -fv\n",
        "!rm ~/.cache/matplotlib -rf"
      ],
      "metadata": {
        "id": "-hZsDMiwakvI"
      },
      "execution_count": null,
      "outputs": []
    },
    {
      "cell_type": "markdown",
      "source": [
        "###**※ <u>반복 가능한 객체와 enumerate() 함수</u> ※**\n",
        "- enumerate()는 리스트(튜플, 문자열)의 인덱스와 요소를 포함하는 enumerate 객체를 반환한다.\n",
        "- enumerate 객체는 반복 가능한(iterable) 객체로, for문에서 사용할 수 있다. (Ex. 리스트, 튜플, 문자열, range, enumerate)\n",
        "- 리스트의 요소를 반복할 때 현재 인덱스가 몇번째인지 확인해야 하는 경우 사용한다."
      ],
      "metadata": {
        "id": "6AFkY-42Hg7o"
      }
    },
    {
      "cell_type": "code",
      "source": [
        "fruits =['사과', '키위', '바나나']"
      ],
      "metadata": {
        "id": "7crBE9ifIpBL"
      },
      "execution_count": null,
      "outputs": []
    },
    {
      "cell_type": "code",
      "source": [
        "# enumerate() 함수 반환값 살펴보기"
      ],
      "metadata": {
        "id": "IzZ4C-aTIrX_"
      },
      "execution_count": null,
      "outputs": []
    },
    {
      "cell_type": "code",
      "source": [
        "# enumerate() 함수 반환값의 타입 살펴보기"
      ],
      "metadata": {
        "id": "5pPq9oxUI-6g"
      },
      "execution_count": null,
      "outputs": []
    },
    {
      "cell_type": "code",
      "source": [
        "# enumerate() 함수 반환값을 리스트로 변환하여 살펴보기"
      ],
      "metadata": {
        "id": "jbTcEY28Isw8"
      },
      "execution_count": null,
      "outputs": []
    },
    {
      "cell_type": "code",
      "source": [
        "# for문에서 enumerate() 함수 사용하기\n",
        "for\n",
        "  print(f'{i}번째 요소는 {val}')"
      ],
      "metadata": {
        "id": "9ozXx0sVIxuF"
      },
      "execution_count": null,
      "outputs": []
    },
    {
      "cell_type": "markdown",
      "source": [
        "위 코드를 enumerate()를 사용하지 않고 다른 방법으로 해결해보자."
      ],
      "metadata": {
        "id": "NqdUJzD94tB_"
      }
    },
    {
      "cell_type": "code",
      "source": [
        "# 인덱스와 과일이름 함께 출력하기"
      ],
      "metadata": {
        "id": "0_XaqKGa4qRv"
      },
      "execution_count": null,
      "outputs": []
    },
    {
      "cell_type": "markdown",
      "source": [
        "###**▶ 파이썬 리스트 복습하기**\n",
        "> 데이터 분석 실습에서 분석할 데이터는 주로 리스트로 취급하여 처리할 것이다. <br>\n",
        "앞으로의 실습을 위해 파이썬의 리스트와 반복문을 복습해보자."
      ],
      "metadata": {
        "id": "6BmSN_7WwEIP"
      }
    },
    {
      "cell_type": "markdown",
      "source": [],
      "metadata": {
        "id": "NLfPtOD-1JBm"
      }
    },
    {
      "cell_type": "markdown",
      "source": [
        "1. 올림픽 메달 획득 현황을 나타내는 2차원 리스트 \"medals\"을 만들어보자.<br>\n",
        " - 리스트의 요소는 각각 국가명, 금메달, 은메달, 동메달의 개수를 의미한다. (예) 미국은 금 46개, 은 37개, 동 38개 획득\n",
        "  - 요소의 순서는 해당 국가의 올림픽 종합 순위에 따라 정렬되어 있다."
      ],
      "metadata": {
        "id": "VEhbzg5j8S7T"
      }
    },
    {
      "cell_type": "code",
      "source": [
        "medals = [['미국', 46, 37, 38], ['영국', 27, 23, 17], ['중국', 26, 18, 26], ['러시아', 19, 18, 19], ['독일', 17, 10, 15], ['일본', 12, 8, 21], ['프랑스', 10, 18, 14], ['대한민국', 9, 3, 9]]"
      ],
      "metadata": {
        "id": "5vsr4DNRBGT7"
      },
      "execution_count": null,
      "outputs": []
    },
    {
      "cell_type": "markdown",
      "source": [
        "2. 국가별로 획득한 전체 메달 수를 국가별 리스트의 마지막 요소로 추가해보자. (※ sum(리스트) : 리스트의 모든 요소의 총합)"
      ],
      "metadata": {
        "id": "cxZiEjmbjGJF"
      }
    },
    {
      "cell_type": "code",
      "source": [],
      "metadata": {
        "id": "LE7gAZN1DL7E"
      },
      "execution_count": null,
      "outputs": []
    },
    {
      "cell_type": "markdown",
      "source": [
        "3. 종합 순위를 국가별 리스트의 첫번째 요소로 추가해보자.\n"
      ],
      "metadata": {
        "id": "DRk1oaCGjkPP"
      }
    },
    {
      "cell_type": "code",
      "source": [],
      "metadata": {
        "id": "Zazahs0rDWYA"
      },
      "execution_count": null,
      "outputs": []
    },
    {
      "cell_type": "markdown",
      "source": [
        "4. 다음 코드의 실행결과를 예상해보자.\n"
      ],
      "metadata": {
        "id": "XnreJIqc66i6"
      }
    },
    {
      "cell_type": "code",
      "source": [
        "medals"
      ],
      "metadata": {
        "id": "UYfEWRbR8SVF"
      },
      "execution_count": null,
      "outputs": []
    },
    {
      "cell_type": "code",
      "source": [
        "medals[0]"
      ],
      "metadata": {
        "id": "iZV_L0DZ8VMw"
      },
      "execution_count": null,
      "outputs": []
    },
    {
      "cell_type": "code",
      "source": [
        "medals[0][1]"
      ],
      "metadata": {
        "id": "NZNJ8_PV8Wwa"
      },
      "execution_count": null,
      "outputs": []
    },
    {
      "cell_type": "markdown",
      "source": [
        "5. 나라이름만 뽑아서 리스트 \"nation\"을 만들어보자."
      ],
      "metadata": {
        "id": "WK-I15xDukhV"
      }
    },
    {
      "cell_type": "code",
      "source": [
        "nation = []\n",
        "\n",
        "print(f'국가: {nation}')"
      ],
      "metadata": {
        "id": "0BTfk-B7BdvD"
      },
      "execution_count": null,
      "outputs": []
    },
    {
      "cell_type": "markdown",
      "source": [
        "6. 나라별 금메달, 은메달, 동메달 개수를 뽑아서 리스트 \"gold\", \"silver\", \"bronze\"를 만들어보자."
      ],
      "metadata": {
        "id": "7xtSJFyDvGLm"
      }
    },
    {
      "cell_type": "code",
      "source": [
        "gold, silver, bronze = [], [], []\n",
        "\n",
        "print(f'금메달 개수: {gold}')\n",
        "print(f'은메달 개수: {silver}')\n",
        "print(f'동메달 개수: {bronze}')"
      ],
      "metadata": {
        "id": "gsfr6W6ju5yY"
      },
      "execution_count": null,
      "outputs": []
    },
    {
      "cell_type": "markdown",
      "source": [
        "###**▶ 파이썬 데이터 시각화 맛보기**\n",
        "> [맷플롯립(Matplotlib)](https://matplotlib.org/)은 파이썬에서 가장 많이 사용되는 데이터 시각화 패키지이다. <br>\n",
        "맷플롯립을 이용해 앞에서 생성한 올림픽 메달 데이터를 그래프로 그려보자."
      ],
      "metadata": {
        "id": "5FZlnZjhwR5T"
      }
    },
    {
      "cell_type": "markdown",
      "source": [
        "<u>＃준비작업 1. 맷플롯립(Matplotlib) 임포트 하기</u><br>\n",
        "외부 모듈에 정의된 함수, 클래스, 변수 등에 접근하려면 해당 모듈을 먼저 임포트 해야한다.<br>\n",
        "맷플롯립의 서브 패키지인 [파이플롯(pyplot)](https://matplotlib.org/stable/api/pyplot_summary.html)을 plt 라는 이름으로 임포트 해보자."
      ],
      "metadata": {
        "id": "Mc-PuJhkKwIy"
      }
    },
    {
      "cell_type": "code",
      "source": [
        "# Matplotlib 임포트\n",
        "import matplotlib.pyplot as plt"
      ],
      "metadata": {
        "id": "tfaDnfcEx2xP"
      },
      "execution_count": null,
      "outputs": []
    },
    {
      "cell_type": "markdown",
      "source": [
        "<u>＃준비작업 2. 한글 사용 설정하기</u><br>\n",
        "맷플롯립은 기본적으로는 한글을 지원하지 않기 때문에 시스템에 설치된 한글 폰트를 사용하도록 별도로 지정해주는 작업이 필요하다.\n",
        "- 시스템에 폰트 설치하기\n",
        "- 맷플롯립에서 사용할 커스텀 폰트 설정하기\n",
        "\n",
        "폰트 첫 번째 셀에서 이미 설치했기 때문에 여기서는 맷플롯립 설정부터 시작한다.\n"
      ],
      "metadata": {
        "id": "MVEr8a4oMhWr"
      }
    },
    {
      "cell_type": "code",
      "source": [
        "# Matplotlib에서 사용할 폰트를 설치한 나눔글꼴로 설정\n",
        "plt.rc('font', family='NanumBarunGothic')"
      ],
      "metadata": {
        "id": "tJkvJz3VamUK"
      },
      "execution_count": null,
      "outputs": []
    },
    {
      "cell_type": "markdown",
      "source": [
        "나라별 획득한 금메달의 개수를 꺾은선 그래프로 그려보자.\n",
        "- title() : 도표(axes)의 제목을 설정하는 함수\n",
        "- plot() : 데이터(x, y)를 도표(axes)에 선 또는 점으로 추가하는 함수\n",
        "- legend() : 도표(axes)에 범례를 추가하는 함수\n",
        "- show() : 그림(figure)을 화면에 보여주는 함수"
      ],
      "metadata": {
        "id": "pLUd7p0FiTUS"
      }
    },
    {
      "cell_type": "code",
      "source": [
        "# 도표(axes)의 제목 설정하기 (나라별 금메달 개수)\n",
        "\n",
        "# 꺾은선 그래프 그리기\n",
        "\n",
        "# 범례 추가하기\n",
        "\n",
        "# 그래프 보여주기\n"
      ],
      "metadata": {
        "id": "CUx_JjKuJlQG"
      },
      "execution_count": null,
      "outputs": []
    },
    {
      "cell_type": "markdown",
      "source": [
        "나라별 획득한 은메달의 개수를 꺾은선 그래프로 그려보자."
      ],
      "metadata": {
        "id": "JQSaaPAWy81K"
      }
    },
    {
      "cell_type": "code",
      "source": [
        "# 도표(axes)의 제목 설정하기 (나라별 은메달 개수)\n",
        "\n",
        "# 꺾은선 그래프 그리기\n",
        "\n",
        "# 범례 추가하기\n",
        "\n",
        "# 그래프 보여주기\n"
      ],
      "metadata": {
        "id": "p4E-rBrHwmxB"
      },
      "execution_count": null,
      "outputs": []
    },
    {
      "cell_type": "markdown",
      "source": [
        "나라별 획득한 동메달의 개수를 꺾은선 그래프로 그려보자."
      ],
      "metadata": {
        "id": "oJWuAEllzBEo"
      }
    },
    {
      "cell_type": "code",
      "source": [
        "# 도표(axes)의 제목 설정하기 (나라별 동메달 개수)\n",
        "\n",
        "# 꺾은선 그래프 그리기\n",
        "\n",
        "# 범례 추가하기\n",
        "\n",
        "# 그래프 보여주기\n"
      ],
      "metadata": {
        "id": "tSGKlZXYKSzP"
      },
      "execution_count": null,
      "outputs": []
    },
    {
      "cell_type": "markdown",
      "source": [
        "나라별 획득한 세 종류 메달의 개수를 나타낸 꺾은선 그래프를 한 도표에 그려보자."
      ],
      "metadata": {
        "id": "ysBjW0ESzBfe"
      }
    },
    {
      "cell_type": "code",
      "source": [
        "# 도표(axes)의 제목 설정하기 (나라별 메달 개수)\n",
        "\n",
        "# 꺾은선 그래프 그리기\n",
        "\n",
        "# 범례 추가하기\n",
        "\n",
        "# 그래프 보여주기\n"
      ],
      "metadata": {
        "id": "Uvtb2EWTNeye"
      },
      "execution_count": null,
      "outputs": []
    }
  ]
}